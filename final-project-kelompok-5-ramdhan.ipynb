{
  "cells": [
    {
      "cell_type": "markdown",
      "metadata": {
        "id": "aiMjsDnf8gb3"
      },
      "source": [
        "## Final Project"
      ]
    },
    {
      "cell_type": "markdown",
      "metadata": {
        "id": "YZRYXd_78gcF"
      },
      "source": [
        "Project ini menggunakan dataset loan default. Tujuan dari project ini yaitu untuk membuat model machine learning untuk memprediksi apakah seorang pemohon pinjaman akan default atau tidak. Data yang digunakan diambil dari https://www.kaggle.com/datasets/yasserh/loan-default-dataset."
      ]
    },
    {
      "cell_type": "markdown",
      "metadata": {
        "id": "8tKZ0TyF8gcG"
      },
      "source": [
        "### Import Packages dan Dataset"
      ]
    },
    {
      "cell_type": "code",
      "execution_count": 1,
      "metadata": {
        "id": "55IdD8nQ8gcH"
      },
      "outputs": [],
      "source": [
        "import numpy as np\n",
        "import pandas as pd\n",
        "import matplotlib.pyplot as plt\n",
        "import seaborn as sns"
      ]
    },
    {
      "cell_type": "code",
      "execution_count": null,
      "metadata": {
        "id": "XBYGpr9W8gcM"
      },
      "outputs": [],
      "source": [
        "df = pd.read_csv(\"Loan_Default.csv\")"
      ]
    },
    {
      "cell_type": "markdown",
      "metadata": {
        "id": "ZuSmqP238gcN"
      },
      "source": [
        "### Exploratory Data Analysis"
      ]
    },
    {
      "cell_type": "markdown",
      "metadata": {
        "id": "W-hFfrFj8gcN"
      },
      "source": [
        "#### Dataset Explanation"
      ]
    },
    {
      "cell_type": "code",
      "execution_count": 4,
      "metadata": {
        "colab": {
          "base_uri": "https://localhost:8080/"
        },
        "id": "4hSOY1o28gcO",
        "outputId": "cd31b096-a29c-4f6a-e1dc-ce0b507f824c"
      },
      "outputs": [
        {
          "output_type": "execute_result",
          "data": {
            "text/plain": [
              "Index(['ID', 'year', 'loan_limit', 'Gender', 'approv_in_adv', 'loan_type',\n",
              "       'loan_purpose', 'Credit_Worthiness', 'open_credit',\n",
              "       'business_or_commercial', 'loan_amount', 'rate_of_interest',\n",
              "       'Interest_rate_spread', 'Upfront_charges', 'term', 'Neg_ammortization',\n",
              "       'interest_only', 'lump_sum_payment', 'property_value',\n",
              "       'construction_type', 'occupancy_type', 'Secured_by', 'total_units',\n",
              "       'income', 'credit_type', 'Credit_Score', 'co-applicant_credit_type',\n",
              "       'age', 'submission_of_application', 'LTV', 'Region', 'Security_Type',\n",
              "       'Status', 'dtir1'],\n",
              "      dtype='object')"
            ]
          },
          "metadata": {},
          "execution_count": 4
        }
      ],
      "source": [
        "df.columns"
      ]
    },
    {
      "cell_type": "code",
      "execution_count": 5,
      "metadata": {
        "colab": {
          "base_uri": "https://localhost:8080/"
        },
        "id": "QAzxTDAe8gcR",
        "outputId": "5d45d248-9974-4b23-d665-c4ffa85bb998"
      },
      "outputs": [
        {
          "output_type": "execute_result",
          "data": {
            "text/plain": [
              "(148670, 34)"
            ]
          },
          "metadata": {},
          "execution_count": 5
        }
      ],
      "source": [
        "df.shape"
      ]
    },
    {
      "cell_type": "markdown",
      "metadata": {
        "id": "63-ruhB38gcS"
      },
      "source": [
        "Dataset ini memiliki 34 kolom dan 148670 baris. Berikut ini merupakan penjelasan dari tiap kolom yang ada pada dataset ini.\n",
        "- ID : tanda unik yang mengidentifikasi tiap pemohon \n",
        "- year : tahun pinjaman diberikan\n",
        "- loan_limit : jumlah uang maksimal yang bisa dipinjam pemohon\n",
        "- Gender : jenis kelamin pemohon\n",
        "- approv_in_adv : apakah permohonan peminjam disetujui di awal (tanpa screening) atau tidak\n",
        "- loan_type : Jenis pinjaman\n",
        "- loan_purpose : alasan peminjam ingin meminjam uang\n",
        "- Credit_Worthiness : Seberapa layak peminjam untuk menerima pinjaman baru,\n",
        "- open_credit : pinjaman yang telah disetujui sebelumnya antara pemberi pinjaman dan peminjam. Ini memungkinkan peminjam untuk melakukan penarikan berulang hingga batas tertentu.\n",
        "- business_or_commercial : Jenis penggunaan pinjaman.\n",
        "- loan_amount : Jumlah pinjaman secara eksak.\n",
        "- rate_of_interest : Jumlah yang dibebankan pemberi pinjaman kepada peminjam dan merupakan persentase dari pokok—jumlah yang dipinjamkan\n",
        "- Interest_rate_spread : Selisih antara tingkat bunga yang dibayarkan lembaga keuangan kepada deposan dan tingkat bunga yang diterimanya dari pinjaman\n",
        "- Upfront_charges : Biaya yang dibayarkan kepada pemberi pinjaman oleh peminjam sebagai pertimbangan untuk membuat pinjaman baru\n",
        "- term : Jangka waktu pelunasan pinjaman\n",
        "- Neg_ammortization : Mengacu pada situasi ketika peminjam pinjaman melakukan pembayaran kurang dari angsuran standar yang ditetapkan oleh bank\n",
        "- Interest_only : jumlah bunga saja tanpa prinsip\n",
        "- lump_sum_payment : Jumlah uang yang dibayarkan dalam satu kali pembayaran, bukan secara mencicil\n",
        "- property_value : Nilai sekarang dari manfaat masa depan yang timbul dari kepemilikan properti\n",
        "- construction_type : Jenis konstruksi agunan\n",
        "- occupancy_type : klasifikasi mengacu pada pengkategorian struktur berdasarkan penggunaannya\n",
        "- Secured_by : Jenis Jaminan\n",
        "- total_units : jumlah unit\n",
        "- income :mengacu pada jumlah uang, properti, dan transfer nilai lainnya yang diterima selama periode waktu tertentu\n",
        "- credit_type : jenis kredit\n",
        "- Credit_Score : ukuran kelayakan kredit\n",
        "- co-applicant_credit_type : orang tambahan yang terlibat dalam proses aplikasi pinjaman. Baik pemohon dan pemohon bersama mengajukan dan menandatangani pinjaman\n",
        "- age : umur pelamar\n",
        "- submission_of_application : Pastikan aplikasi lengkap atau tidak\n",
        "- LTV : nilai waktu hidup (LTV) adalah perkiraan laba bersih\n",
        "- Region : tempat pemohon\n",
        "- Security_Type :Jenis Jaminan\n",
        "- Status : Apakah nasabah default atau tidak\n",
        "- dtir1 : rasio utang terhadap pendapatan\n",
        "\n",
        "Kolom `Status` menjadi kolom tujuan yang akan diprediksi (label)."
      ]
    },
    {
      "cell_type": "markdown",
      "metadata": {
        "id": "s8tmvJUp8gcV"
      },
      "source": [
        "#### Checking Data Types and Missing Values"
      ]
    },
    {
      "cell_type": "markdown",
      "metadata": {
        "id": "q-PZh2418gcW"
      },
      "source": [
        "Untuk langkah pertama, kita perlu mengecek apakah tiap kolom pada dataset memiliki tipe data yang benar, dan mengecek nilai yang dimiliki oleh tiap kolomnya."
      ]
    },
    {
      "cell_type": "code",
      "execution_count": 6,
      "metadata": {
        "colab": {
          "base_uri": "https://localhost:8080/"
        },
        "id": "iWAYTpiZ8gcX",
        "outputId": "fbccd96c-7469-4230-ee5a-6ffbced4746d"
      },
      "outputs": [
        {
          "output_type": "stream",
          "name": "stdout",
          "text": [
            "<class 'pandas.core.frame.DataFrame'>\n",
            "RangeIndex: 148670 entries, 0 to 148669\n",
            "Data columns (total 34 columns):\n",
            " #   Column                     Non-Null Count   Dtype  \n",
            "---  ------                     --------------   -----  \n",
            " 0   ID                         148670 non-null  int64  \n",
            " 1   year                       148670 non-null  int64  \n",
            " 2   loan_limit                 145326 non-null  object \n",
            " 3   Gender                     148670 non-null  object \n",
            " 4   approv_in_adv              147762 non-null  object \n",
            " 5   loan_type                  148670 non-null  object \n",
            " 6   loan_purpose               148536 non-null  object \n",
            " 7   Credit_Worthiness          148670 non-null  object \n",
            " 8   open_credit                148670 non-null  object \n",
            " 9   business_or_commercial     148670 non-null  object \n",
            " 10  loan_amount                148670 non-null  int64  \n",
            " 11  rate_of_interest           112231 non-null  float64\n",
            " 12  Interest_rate_spread       112031 non-null  float64\n",
            " 13  Upfront_charges            109028 non-null  float64\n",
            " 14  term                       148629 non-null  float64\n",
            " 15  Neg_ammortization          148549 non-null  object \n",
            " 16  interest_only              148670 non-null  object \n",
            " 17  lump_sum_payment           148670 non-null  object \n",
            " 18  property_value             133572 non-null  float64\n",
            " 19  construction_type          148670 non-null  object \n",
            " 20  occupancy_type             148670 non-null  object \n",
            " 21  Secured_by                 148670 non-null  object \n",
            " 22  total_units                148670 non-null  object \n",
            " 23  income                     139520 non-null  float64\n",
            " 24  credit_type                148670 non-null  object \n",
            " 25  Credit_Score               148670 non-null  int64  \n",
            " 26  co-applicant_credit_type   148670 non-null  object \n",
            " 27  age                        148470 non-null  object \n",
            " 28  submission_of_application  148470 non-null  object \n",
            " 29  LTV                        133572 non-null  float64\n",
            " 30  Region                     148670 non-null  object \n",
            " 31  Security_Type              148670 non-null  object \n",
            " 32  Status                     148670 non-null  int64  \n",
            " 33  dtir1                      124549 non-null  float64\n",
            "dtypes: float64(8), int64(5), object(21)\n",
            "memory usage: 38.6+ MB\n"
          ]
        }
      ],
      "source": [
        "df.info()"
      ]
    },
    {
      "cell_type": "code",
      "execution_count": 7,
      "metadata": {
        "colab": {
          "base_uri": "https://localhost:8080/",
          "height": 0
        },
        "id": "COJooWYs8gcY",
        "outputId": "a0a493b8-4a93-4bc5-decb-66c5f871c69f"
      },
      "outputs": [
        {
          "output_type": "execute_result",
          "data": {
            "text/plain": [
              "      ID  year loan_limit             Gender approv_in_adv loan_type  \\\n",
              "0  24890  2019         cf  Sex Not Available         nopre     type1   \n",
              "1  24891  2019         cf               Male         nopre     type2   \n",
              "2  24892  2019         cf               Male           pre     type1   \n",
              "3  24893  2019         cf               Male         nopre     type1   \n",
              "4  24894  2019         cf              Joint           pre     type1   \n",
              "\n",
              "  loan_purpose Credit_Worthiness open_credit business_or_commercial  ...  \\\n",
              "0           p1                l1        nopc                  nob/c  ...   \n",
              "1           p1                l1        nopc                    b/c  ...   \n",
              "2           p1                l1        nopc                  nob/c  ...   \n",
              "3           p4                l1        nopc                  nob/c  ...   \n",
              "4           p1                l1        nopc                  nob/c  ...   \n",
              "\n",
              "   credit_type  Credit_Score  co-applicant_credit_type    age  \\\n",
              "0          EXP           758                       CIB  25-34   \n",
              "1         EQUI           552                       EXP  55-64   \n",
              "2          EXP           834                       CIB  35-44   \n",
              "3          EXP           587                       CIB  45-54   \n",
              "4         CRIF           602                       EXP  25-34   \n",
              "\n",
              "   submission_of_application        LTV Region Security_Type  Status dtir1  \n",
              "0                    to_inst  98.728814  south        direct       1  45.0  \n",
              "1                    to_inst        NaN  North        direct       1   NaN  \n",
              "2                    to_inst  80.019685  south        direct       0  46.0  \n",
              "3                   not_inst  69.376900  North        direct       0  42.0  \n",
              "4                   not_inst  91.886544  North        direct       0  39.0  \n",
              "\n",
              "[5 rows x 34 columns]"
            ],
            "text/html": [
              "\n",
              "  <div id=\"df-414e5974-8f6a-4f2c-9dad-f0ac50f331ea\">\n",
              "    <div class=\"colab-df-container\">\n",
              "      <div>\n",
              "<style scoped>\n",
              "    .dataframe tbody tr th:only-of-type {\n",
              "        vertical-align: middle;\n",
              "    }\n",
              "\n",
              "    .dataframe tbody tr th {\n",
              "        vertical-align: top;\n",
              "    }\n",
              "\n",
              "    .dataframe thead th {\n",
              "        text-align: right;\n",
              "    }\n",
              "</style>\n",
              "<table border=\"1\" class=\"dataframe\">\n",
              "  <thead>\n",
              "    <tr style=\"text-align: right;\">\n",
              "      <th></th>\n",
              "      <th>ID</th>\n",
              "      <th>year</th>\n",
              "      <th>loan_limit</th>\n",
              "      <th>Gender</th>\n",
              "      <th>approv_in_adv</th>\n",
              "      <th>loan_type</th>\n",
              "      <th>loan_purpose</th>\n",
              "      <th>Credit_Worthiness</th>\n",
              "      <th>open_credit</th>\n",
              "      <th>business_or_commercial</th>\n",
              "      <th>...</th>\n",
              "      <th>credit_type</th>\n",
              "      <th>Credit_Score</th>\n",
              "      <th>co-applicant_credit_type</th>\n",
              "      <th>age</th>\n",
              "      <th>submission_of_application</th>\n",
              "      <th>LTV</th>\n",
              "      <th>Region</th>\n",
              "      <th>Security_Type</th>\n",
              "      <th>Status</th>\n",
              "      <th>dtir1</th>\n",
              "    </tr>\n",
              "  </thead>\n",
              "  <tbody>\n",
              "    <tr>\n",
              "      <th>0</th>\n",
              "      <td>24890</td>\n",
              "      <td>2019</td>\n",
              "      <td>cf</td>\n",
              "      <td>Sex Not Available</td>\n",
              "      <td>nopre</td>\n",
              "      <td>type1</td>\n",
              "      <td>p1</td>\n",
              "      <td>l1</td>\n",
              "      <td>nopc</td>\n",
              "      <td>nob/c</td>\n",
              "      <td>...</td>\n",
              "      <td>EXP</td>\n",
              "      <td>758</td>\n",
              "      <td>CIB</td>\n",
              "      <td>25-34</td>\n",
              "      <td>to_inst</td>\n",
              "      <td>98.728814</td>\n",
              "      <td>south</td>\n",
              "      <td>direct</td>\n",
              "      <td>1</td>\n",
              "      <td>45.0</td>\n",
              "    </tr>\n",
              "    <tr>\n",
              "      <th>1</th>\n",
              "      <td>24891</td>\n",
              "      <td>2019</td>\n",
              "      <td>cf</td>\n",
              "      <td>Male</td>\n",
              "      <td>nopre</td>\n",
              "      <td>type2</td>\n",
              "      <td>p1</td>\n",
              "      <td>l1</td>\n",
              "      <td>nopc</td>\n",
              "      <td>b/c</td>\n",
              "      <td>...</td>\n",
              "      <td>EQUI</td>\n",
              "      <td>552</td>\n",
              "      <td>EXP</td>\n",
              "      <td>55-64</td>\n",
              "      <td>to_inst</td>\n",
              "      <td>NaN</td>\n",
              "      <td>North</td>\n",
              "      <td>direct</td>\n",
              "      <td>1</td>\n",
              "      <td>NaN</td>\n",
              "    </tr>\n",
              "    <tr>\n",
              "      <th>2</th>\n",
              "      <td>24892</td>\n",
              "      <td>2019</td>\n",
              "      <td>cf</td>\n",
              "      <td>Male</td>\n",
              "      <td>pre</td>\n",
              "      <td>type1</td>\n",
              "      <td>p1</td>\n",
              "      <td>l1</td>\n",
              "      <td>nopc</td>\n",
              "      <td>nob/c</td>\n",
              "      <td>...</td>\n",
              "      <td>EXP</td>\n",
              "      <td>834</td>\n",
              "      <td>CIB</td>\n",
              "      <td>35-44</td>\n",
              "      <td>to_inst</td>\n",
              "      <td>80.019685</td>\n",
              "      <td>south</td>\n",
              "      <td>direct</td>\n",
              "      <td>0</td>\n",
              "      <td>46.0</td>\n",
              "    </tr>\n",
              "    <tr>\n",
              "      <th>3</th>\n",
              "      <td>24893</td>\n",
              "      <td>2019</td>\n",
              "      <td>cf</td>\n",
              "      <td>Male</td>\n",
              "      <td>nopre</td>\n",
              "      <td>type1</td>\n",
              "      <td>p4</td>\n",
              "      <td>l1</td>\n",
              "      <td>nopc</td>\n",
              "      <td>nob/c</td>\n",
              "      <td>...</td>\n",
              "      <td>EXP</td>\n",
              "      <td>587</td>\n",
              "      <td>CIB</td>\n",
              "      <td>45-54</td>\n",
              "      <td>not_inst</td>\n",
              "      <td>69.376900</td>\n",
              "      <td>North</td>\n",
              "      <td>direct</td>\n",
              "      <td>0</td>\n",
              "      <td>42.0</td>\n",
              "    </tr>\n",
              "    <tr>\n",
              "      <th>4</th>\n",
              "      <td>24894</td>\n",
              "      <td>2019</td>\n",
              "      <td>cf</td>\n",
              "      <td>Joint</td>\n",
              "      <td>pre</td>\n",
              "      <td>type1</td>\n",
              "      <td>p1</td>\n",
              "      <td>l1</td>\n",
              "      <td>nopc</td>\n",
              "      <td>nob/c</td>\n",
              "      <td>...</td>\n",
              "      <td>CRIF</td>\n",
              "      <td>602</td>\n",
              "      <td>EXP</td>\n",
              "      <td>25-34</td>\n",
              "      <td>not_inst</td>\n",
              "      <td>91.886544</td>\n",
              "      <td>North</td>\n",
              "      <td>direct</td>\n",
              "      <td>0</td>\n",
              "      <td>39.0</td>\n",
              "    </tr>\n",
              "  </tbody>\n",
              "</table>\n",
              "<p>5 rows × 34 columns</p>\n",
              "</div>\n",
              "      <button class=\"colab-df-convert\" onclick=\"convertToInteractive('df-414e5974-8f6a-4f2c-9dad-f0ac50f331ea')\"\n",
              "              title=\"Convert this dataframe to an interactive table.\"\n",
              "              style=\"display:none;\">\n",
              "        \n",
              "  <svg xmlns=\"http://www.w3.org/2000/svg\" height=\"24px\"viewBox=\"0 0 24 24\"\n",
              "       width=\"24px\">\n",
              "    <path d=\"M0 0h24v24H0V0z\" fill=\"none\"/>\n",
              "    <path d=\"M18.56 5.44l.94 2.06.94-2.06 2.06-.94-2.06-.94-.94-2.06-.94 2.06-2.06.94zm-11 1L8.5 8.5l.94-2.06 2.06-.94-2.06-.94L8.5 2.5l-.94 2.06-2.06.94zm10 10l.94 2.06.94-2.06 2.06-.94-2.06-.94-.94-2.06-.94 2.06-2.06.94z\"/><path d=\"M17.41 7.96l-1.37-1.37c-.4-.4-.92-.59-1.43-.59-.52 0-1.04.2-1.43.59L10.3 9.45l-7.72 7.72c-.78.78-.78 2.05 0 2.83L4 21.41c.39.39.9.59 1.41.59.51 0 1.02-.2 1.41-.59l7.78-7.78 2.81-2.81c.8-.78.8-2.07 0-2.86zM5.41 20L4 18.59l7.72-7.72 1.47 1.35L5.41 20z\"/>\n",
              "  </svg>\n",
              "      </button>\n",
              "      \n",
              "  <style>\n",
              "    .colab-df-container {\n",
              "      display:flex;\n",
              "      flex-wrap:wrap;\n",
              "      gap: 12px;\n",
              "    }\n",
              "\n",
              "    .colab-df-convert {\n",
              "      background-color: #E8F0FE;\n",
              "      border: none;\n",
              "      border-radius: 50%;\n",
              "      cursor: pointer;\n",
              "      display: none;\n",
              "      fill: #1967D2;\n",
              "      height: 32px;\n",
              "      padding: 0 0 0 0;\n",
              "      width: 32px;\n",
              "    }\n",
              "\n",
              "    .colab-df-convert:hover {\n",
              "      background-color: #E2EBFA;\n",
              "      box-shadow: 0px 1px 2px rgba(60, 64, 67, 0.3), 0px 1px 3px 1px rgba(60, 64, 67, 0.15);\n",
              "      fill: #174EA6;\n",
              "    }\n",
              "\n",
              "    [theme=dark] .colab-df-convert {\n",
              "      background-color: #3B4455;\n",
              "      fill: #D2E3FC;\n",
              "    }\n",
              "\n",
              "    [theme=dark] .colab-df-convert:hover {\n",
              "      background-color: #434B5C;\n",
              "      box-shadow: 0px 1px 3px 1px rgba(0, 0, 0, 0.15);\n",
              "      filter: drop-shadow(0px 1px 2px rgba(0, 0, 0, 0.3));\n",
              "      fill: #FFFFFF;\n",
              "    }\n",
              "  </style>\n",
              "\n",
              "      <script>\n",
              "        const buttonEl =\n",
              "          document.querySelector('#df-414e5974-8f6a-4f2c-9dad-f0ac50f331ea button.colab-df-convert');\n",
              "        buttonEl.style.display =\n",
              "          google.colab.kernel.accessAllowed ? 'block' : 'none';\n",
              "\n",
              "        async function convertToInteractive(key) {\n",
              "          const element = document.querySelector('#df-414e5974-8f6a-4f2c-9dad-f0ac50f331ea');\n",
              "          const dataTable =\n",
              "            await google.colab.kernel.invokeFunction('convertToInteractive',\n",
              "                                                     [key], {});\n",
              "          if (!dataTable) return;\n",
              "\n",
              "          const docLinkHtml = 'Like what you see? Visit the ' +\n",
              "            '<a target=\"_blank\" href=https://colab.research.google.com/notebooks/data_table.ipynb>data table notebook</a>'\n",
              "            + ' to learn more about interactive tables.';\n",
              "          element.innerHTML = '';\n",
              "          dataTable['output_type'] = 'display_data';\n",
              "          await google.colab.output.renderOutput(dataTable, element);\n",
              "          const docLink = document.createElement('div');\n",
              "          docLink.innerHTML = docLinkHtml;\n",
              "          element.appendChild(docLink);\n",
              "        }\n",
              "      </script>\n",
              "    </div>\n",
              "  </div>\n",
              "  "
            ]
          },
          "metadata": {},
          "execution_count": 7
        }
      ],
      "source": [
        "df.head()"
      ]
    },
    {
      "cell_type": "markdown",
      "metadata": {
        "id": "dI_4y6rX8gcZ"
      },
      "source": [
        "Terdapat kejanggalan pada tipe data kolom `total_units` dan `age` yang memiliki tipe data object, padahal total unit dan usia seharusnya bertipe data integer. Akan dilakukan pengecekan terhadap kolom-kolom tersebut."
      ]
    },
    {
      "cell_type": "code",
      "execution_count": 8,
      "metadata": {
        "colab": {
          "base_uri": "https://localhost:8080/"
        },
        "id": "QFdIicDs8gca",
        "outputId": "9026bf09-2fb4-4c27-f6c5-2ce732938046"
      },
      "outputs": [
        {
          "output_type": "execute_result",
          "data": {
            "text/plain": [
              "1U    146480\n",
              "2U      1477\n",
              "3U       393\n",
              "4U       320\n",
              "Name: total_units, dtype: int64"
            ]
          },
          "metadata": {},
          "execution_count": 8
        }
      ],
      "source": [
        "df[\"total_units\"].value_counts()"
      ]
    },
    {
      "cell_type": "code",
      "execution_count": 9,
      "metadata": {
        "colab": {
          "base_uri": "https://localhost:8080/"
        },
        "id": "DveTLzra8gcb",
        "outputId": "4dedba4b-6678-44f7-facc-13e8afc8b301"
      },
      "outputs": [
        {
          "output_type": "execute_result",
          "data": {
            "text/plain": [
              "45-54    34720\n",
              "35-44    32818\n",
              "55-64    32534\n",
              "65-74    20744\n",
              "25-34    19142\n",
              ">74       7175\n",
              "<25       1337\n",
              "Name: age, dtype: int64"
            ]
          },
          "metadata": {},
          "execution_count": 9
        }
      ],
      "source": [
        "df[\"age\"].value_counts()"
      ]
    },
    {
      "cell_type": "markdown",
      "metadata": {
        "id": "6HYhZXjW8gcc"
      },
      "source": [
        "Ternyata, kolom `total_units` dikelompokkan berdasarkan jumlah unitnya dan kolom `age` dikelompokkan berdasarkan range usia tertentu sehingga kedua kolom ini memiliki tipe data object. Nilai-nilai pada `total_units` akan diubah menjadi integer."
      ]
    },
    {
      "cell_type": "code",
      "execution_count": 10,
      "metadata": {
        "id": "dyf2Xd8d8gcc"
      },
      "outputs": [],
      "source": [
        "def tunit(x):\n",
        "    if x=='1U':\n",
        "        x=1\n",
        "        return x\n",
        "    elif x=='2U':\n",
        "        x=2\n",
        "        return x\n",
        "    elif x=='3U':\n",
        "        x=3\n",
        "        return x\n",
        "    else:\n",
        "        x=4\n",
        "        return x"
      ]
    },
    {
      "cell_type": "code",
      "execution_count": 11,
      "metadata": {
        "id": "spw1yxB_8gcd"
      },
      "outputs": [],
      "source": [
        "df[\"total_units\"] = df.apply(lambda x: tunit(x.total_units), axis = 1)"
      ]
    },
    {
      "cell_type": "markdown",
      "metadata": {
        "id": "7FHWm8ok8gcd"
      },
      "source": [
        "Kolom gender memiliki nilai 'Sex Not Available' yang sama dengan nilai NaN, maka dari itu nilai 'Sex Not Available akan diganti dengan NaN'"
      ]
    },
    {
      "cell_type": "code",
      "execution_count": 12,
      "metadata": {
        "colab": {
          "base_uri": "https://localhost:8080/"
        },
        "id": "nmSRNdDL8gce",
        "outputId": "5b5f48c1-27b6-4808-b36a-1300421ef18a"
      },
      "outputs": [
        {
          "output_type": "execute_result",
          "data": {
            "text/plain": [
              "Male                 42346\n",
              "Joint                41399\n",
              "Sex Not Available    37659\n",
              "Female               27266\n",
              "Name: Gender, dtype: int64"
            ]
          },
          "metadata": {},
          "execution_count": 12
        }
      ],
      "source": [
        "df[\"Gender\"].value_counts()"
      ]
    },
    {
      "cell_type": "code",
      "execution_count": 13,
      "metadata": {
        "id": "nc378j3J8gce"
      },
      "outputs": [],
      "source": [
        "def gender(x):\n",
        "    if x==\"Sex Not Available\":\n",
        "        x=np.nan\n",
        "        return x\n",
        "    else:\n",
        "        return x"
      ]
    },
    {
      "cell_type": "code",
      "execution_count": 14,
      "metadata": {
        "id": "gRDdhFeF8gcf"
      },
      "outputs": [],
      "source": [
        "df[\"Gender\"] = df.apply(lambda x: gender(x.Gender), axis = 1)"
      ]
    },
    {
      "cell_type": "markdown",
      "metadata": {
        "id": "u27X_sSS8gcg"
      },
      "source": [
        "#### Handle Missing Values"
      ]
    },
    {
      "cell_type": "code",
      "execution_count": 15,
      "metadata": {
        "colab": {
          "base_uri": "https://localhost:8080/"
        },
        "id": "uvYZL4GL8gcg",
        "outputId": "2334be90-6951-46d5-81b2-2936f510f95c"
      },
      "outputs": [
        {
          "output_type": "stream",
          "name": "stdout",
          "text": [
            "<class 'pandas.core.frame.DataFrame'>\n",
            "RangeIndex: 148670 entries, 0 to 148669\n",
            "Data columns (total 34 columns):\n",
            " #   Column                     Non-Null Count   Dtype  \n",
            "---  ------                     --------------   -----  \n",
            " 0   ID                         148670 non-null  int64  \n",
            " 1   year                       148670 non-null  int64  \n",
            " 2   loan_limit                 145326 non-null  object \n",
            " 3   Gender                     111011 non-null  object \n",
            " 4   approv_in_adv              147762 non-null  object \n",
            " 5   loan_type                  148670 non-null  object \n",
            " 6   loan_purpose               148536 non-null  object \n",
            " 7   Credit_Worthiness          148670 non-null  object \n",
            " 8   open_credit                148670 non-null  object \n",
            " 9   business_or_commercial     148670 non-null  object \n",
            " 10  loan_amount                148670 non-null  int64  \n",
            " 11  rate_of_interest           112231 non-null  float64\n",
            " 12  Interest_rate_spread       112031 non-null  float64\n",
            " 13  Upfront_charges            109028 non-null  float64\n",
            " 14  term                       148629 non-null  float64\n",
            " 15  Neg_ammortization          148549 non-null  object \n",
            " 16  interest_only              148670 non-null  object \n",
            " 17  lump_sum_payment           148670 non-null  object \n",
            " 18  property_value             133572 non-null  float64\n",
            " 19  construction_type          148670 non-null  object \n",
            " 20  occupancy_type             148670 non-null  object \n",
            " 21  Secured_by                 148670 non-null  object \n",
            " 22  total_units                148670 non-null  int64  \n",
            " 23  income                     139520 non-null  float64\n",
            " 24  credit_type                148670 non-null  object \n",
            " 25  Credit_Score               148670 non-null  int64  \n",
            " 26  co-applicant_credit_type   148670 non-null  object \n",
            " 27  age                        148470 non-null  object \n",
            " 28  submission_of_application  148470 non-null  object \n",
            " 29  LTV                        133572 non-null  float64\n",
            " 30  Region                     148670 non-null  object \n",
            " 31  Security_Type              148670 non-null  object \n",
            " 32  Status                     148670 non-null  int64  \n",
            " 33  dtir1                      124549 non-null  float64\n",
            "dtypes: float64(8), int64(6), object(20)\n",
            "memory usage: 38.6+ MB\n"
          ]
        }
      ],
      "source": [
        "df.info()"
      ]
    },
    {
      "cell_type": "markdown",
      "metadata": {
        "id": "2hhrnYR_8gch"
      },
      "source": [
        "Dataset df memiliki banyak kolom yang memiliki nilai kosong (missing value), terutama di kolom `Gender`, `rate_of_interest`, `Interest_rate_spread`, dan juga `Upfront_charges`. Akan dilihat persebaran missing value ini berdasarkan `Status`nya."
      ]
    },
    {
      "cell_type": "code",
      "execution_count": 16,
      "metadata": {
        "colab": {
          "base_uri": "https://localhost:8080/"
        },
        "id": "1GszELuF8gch",
        "outputId": "c7f4d526-4189-49f1-ac11-3fd1b8e700c5"
      },
      "outputs": [
        {
          "output_type": "execute_result",
          "data": {
            "text/plain": [
              "0    112031\n",
              "1     36639\n",
              "Name: Status, dtype: int64"
            ]
          },
          "metadata": {},
          "execution_count": 16
        }
      ],
      "source": [
        "df['Status'].value_counts()"
      ]
    },
    {
      "cell_type": "code",
      "execution_count": 17,
      "metadata": {
        "colab": {
          "base_uri": "https://localhost:8080/"
        },
        "id": "TfpGn9-a8gci",
        "outputId": "ed0c5c57-d6f4-4110-ec01-633890007b9f"
      },
      "outputs": [
        {
          "output_type": "execute_result",
          "data": {
            "text/plain": [
              "Status\n",
              "0    26892\n",
              "1    10767\n",
              "Name: Gender, dtype: int64"
            ]
          },
          "metadata": {},
          "execution_count": 17
        }
      ],
      "source": [
        "df.Gender.isnull().groupby([df['Status']]).sum().astype(int)"
      ]
    },
    {
      "cell_type": "code",
      "execution_count": 18,
      "metadata": {
        "colab": {
          "base_uri": "https://localhost:8080/"
        },
        "id": "LD4kbr4X8gci",
        "outputId": "0c1504f2-aa99-4c6d-ffc6-81077bb0e539"
      },
      "outputs": [
        {
          "output_type": "execute_result",
          "data": {
            "text/plain": [
              "Status\n",
              "0        0\n",
              "1    36439\n",
              "Name: rate_of_interest, dtype: int64"
            ]
          },
          "metadata": {},
          "execution_count": 18
        }
      ],
      "source": [
        "df.rate_of_interest.isnull().groupby([df['Status']]).sum().astype(int)"
      ]
    },
    {
      "cell_type": "code",
      "execution_count": 19,
      "metadata": {
        "colab": {
          "base_uri": "https://localhost:8080/"
        },
        "id": "ES_zxwde8gcj",
        "outputId": "6d7cdc74-c1b5-4618-d2a6-c51fde3c076b"
      },
      "outputs": [
        {
          "output_type": "execute_result",
          "data": {
            "text/plain": [
              "Status\n",
              "0        0\n",
              "1    36639\n",
              "Name: Interest_rate_spread, dtype: int64"
            ]
          },
          "metadata": {},
          "execution_count": 19
        }
      ],
      "source": [
        "df.Interest_rate_spread.isnull().groupby([df['Status']]).sum().astype(int)"
      ]
    },
    {
      "cell_type": "code",
      "execution_count": 20,
      "metadata": {
        "colab": {
          "base_uri": "https://localhost:8080/"
        },
        "id": "HOKIYzrk8gcj",
        "outputId": "f77d52d9-c929-4d88-e1d6-74f8d042ca5e"
      },
      "outputs": [
        {
          "output_type": "execute_result",
          "data": {
            "text/plain": [
              "Status\n",
              "0     3156\n",
              "1    36486\n",
              "Name: Upfront_charges, dtype: int64"
            ]
          },
          "metadata": {},
          "execution_count": 20
        }
      ],
      "source": [
        "df.Upfront_charges.isnull().groupby([df['Status']]).sum().astype(int)"
      ]
    },
    {
      "cell_type": "markdown",
      "metadata": {
        "id": "NSH5gCpu8gck"
      },
      "source": [
        "Kolom `rate_of_interest`, `Interest_rate_spread`, dan `Upfront_charges` akan dihapus karena nilai kosong pada Status 1-nya sangat banyak. Begitu pula dengan kolom `gender` akan dihapus."
      ]
    },
    {
      "cell_type": "code",
      "execution_count": 21,
      "metadata": {
        "id": "Fq4Ocw1z8gck"
      },
      "outputs": [],
      "source": [
        "df.drop(['rate_of_interest','Interest_rate_spread','Upfront_charges'], axis = 'columns', inplace = True)"
      ]
    },
    {
      "cell_type": "code",
      "source": [
        "df.drop(['Gender'], axis = 'columns', inplace = True)"
      ],
      "metadata": {
        "id": "oT2EisWGI_Xo"
      },
      "execution_count": 22,
      "outputs": []
    },
    {
      "cell_type": "markdown",
      "metadata": {
        "id": "mdNJWuur8gck"
      },
      "source": [
        "Kolom `ID` tidak berpengaruh terhadap `Status`, begitu pula dengan kolom `year` karena hanya memiliki satu nilai yaitu 2019. Maka dari itu, kolom `ID` dan `year` akan dihapus."
      ]
    },
    {
      "cell_type": "code",
      "execution_count": 23,
      "metadata": {
        "id": "kEX6wyJE8gcm"
      },
      "outputs": [],
      "source": [
        "df.drop(['ID','year'], axis = 'columns', inplace = True)"
      ]
    },
    {
      "cell_type": "markdown",
      "source": [
        "Selanjutnya, data yang kosong akan diganti dengan mean/modus dari tiap kolomnya."
      ],
      "metadata": {
        "id": "NGmKLELYFg4b"
      }
    },
    {
      "cell_type": "code",
      "source": [
        "data = df.copy()"
      ],
      "metadata": {
        "id": "8zuEMVWPH8E4"
      },
      "execution_count": 24,
      "outputs": []
    },
    {
      "cell_type": "code",
      "source": [
        "df['loan_limit'] = df['loan_limit'].fillna(df['loan_limit'].mode())\n",
        "df['approv_in_adv'] = df['approv_in_adv'].fillna(df['approv_in_adv'].mode())\n",
        "df['loan_purpose'] = df['loan_purpose'].fillna(df['loan_purpose'].mode())\n",
        "df['term'] = df['term'].fillna(df['term'].mean())\n",
        "df['Neg_ammortization'] = df['Neg_ammortization'].fillna(df['Neg_ammortization'].mode())\n",
        "df['property_value'] = df['property_value'].fillna(df['property_value'].mean())\n",
        "df['income'] = df['income'].fillna(df['income'].mean())\n",
        "df['LTV'] = df['LTV'].fillna(df['LTV'].mean())\n",
        "df['dtir1'] = df['dtir1'].fillna(df['dtir1'].mean())"
      ],
      "metadata": {
        "id": "-OtA3nnQIBYv"
      },
      "execution_count": 25,
      "outputs": []
    },
    {
      "cell_type": "markdown",
      "metadata": {
        "id": "8D4vxlNw8gcn"
      },
      "source": [
        "#### Data Visualization"
      ]
    },
    {
      "cell_type": "markdown",
      "metadata": {
        "id": "AA4o6xMm8gcn"
      },
      "source": [
        "Sebelum melakukan feature selection, kita perlu terlebih dahulu memahami tiap kolom untuk menentukan kolom mana yang akan digunakan sebagai prediktor. Berikut merupakan heatmap yang menunjukkan korelasi antar tiap kolom numerik."
      ]
    },
    {
      "cell_type": "code",
      "execution_count": 26,
      "metadata": {
        "colab": {
          "base_uri": "https://localhost:8080/",
          "height": 677
        },
        "id": "8_1dxxEX8gco",
        "outputId": "e60ee506-6d12-4f38-99c9-7f99000650bc"
      },
      "outputs": [
        {
          "output_type": "execute_result",
          "data": {
            "text/plain": [
              "<matplotlib.axes._subplots.AxesSubplot at 0x7f7b208ac950>"
            ]
          },
          "metadata": {},
          "execution_count": 26
        },
        {
          "output_type": "display_data",
          "data": {
            "text/plain": [
              "<Figure size 864x720 with 2 Axes>"
            ],
            "image/png": "[encoded data removed]"
          },
          "metadata": {
            "needs_background": "light"
          }
        }
      ],
      "source": [
        "corr = df.corr('spearman')\n",
        "f, ax = plt.subplots(figsize=(12, 10))\n",
        "mask = np.triu(np.ones_like(corr, dtype=bool))\n",
        "cmap = sns.diverging_palette(230, 20, as_cmap=True)\n",
        "sns.heatmap(corr, annot=True, mask = mask, cmap=cmap)"
      ]
    },
    {
      "cell_type": "markdown",
      "metadata": {
        "id": "TfUOAeBH8gco"
      },
      "source": [
        "Dari heatmap di atas, bisa kita simpulkan bahwa `property_value` dan `loan_amount` memiliki korelasi yang tinggi. Sehingga jika salah satu dipilih menjadi prediktor, maka yang lainnya harus diserakan. Begitu pula kolom `income` dengan `loan_amount` dan kolom `income` dengan `property_value` memiliki korelasi yang cukup tinggi. Semakin tinggi property value-nya, semakin tinggi income dan juga loan amountnya, begitu pula sebaliknya.\n",
        "Berikutnya akan dilihat hubungan antar kolom numerik dengan kolom `Status` dengan menggunakan scatterplot"
      ]
    },
    {
      "cell_type": "code",
      "execution_count": 27,
      "metadata": {
        "colab": {
          "base_uri": "https://localhost:8080/",
          "height": 879
        },
        "id": "Y6GMPYYM8gco",
        "outputId": "975f0098-5d07-4f86-8bfc-02166c89b923"
      },
      "outputs": [
        {
          "output_type": "display_data",
          "data": {
            "text/plain": [
              "<Figure size 1080x1080 with 8 Axes>"
            ],
            "image/png": "[encoded data removed]"
          },
          "metadata": {
            "needs_background": "light"
          }
        }
      ],
      "source": [
        "fig, axs = plt.subplots(2, 4,figsize=(15,15))\n",
        "\n",
        "axs[0, 0].scatter(df[\"Status\"].astype(str), df[\"loan_amount\"], color='seagreen')\n",
        "axs[0, 0].margins(x=1)\n",
        "axs[0, 0].set_title('loan_amount')\n",
        "\n",
        "axs[0, 1].scatter(df[\"Status\"].astype(str), df[\"term\"], color='seagreen')\n",
        "axs[0, 1].margins(x=1)\n",
        "axs[0, 1].set_title('term')\n",
        "\n",
        "axs[0, 2].scatter(df[\"Status\"].astype(str), df[\"property_value\"], color='seagreen')\n",
        "axs[0, 2].margins(x=1)\n",
        "axs[0, 2].set_title('property_value')\n",
        "\n",
        "axs[0, 3].scatter(df[\"Status\"].astype(str), df[\"income\"], color='seagreen')\n",
        "axs[0, 3].margins(x=1)\n",
        "axs[0, 3].set_title('income')\n",
        "\n",
        "axs[1, 0].scatter(df[\"Status\"].astype(str), df[\"Credit_Score\"], color='seagreen')\n",
        "axs[1, 0].margins(x=1)\n",
        "axs[1, 0].set_title('Credit_Score')\n",
        "\n",
        "axs[1, 1].scatter(df[\"Status\"].astype(str), df[\"total_units\"], color='springgreen')\n",
        "axs[1, 1].margins(x=1)\n",
        "axs[1, 1].set_title('total_units')\n",
        "\n",
        "axs[1, 2].scatter(df[\"Status\"].astype(str), df[\"LTV\"], color='springgreen')\n",
        "axs[1, 2].margins(x=1)\n",
        "axs[1, 2].set_title('LTV')\n",
        "\n",
        "axs[1, 3].scatter(df[\"Status\"].astype(str), df[\"dtir1\"], color='springgreen')\n",
        "axs[1, 3].margins(x=1)\n",
        "axs[1, 3].set_title('dtir1')\n",
        "\n",
        "plt.show()"
      ]
    },
    {
      "cell_type": "markdown",
      "metadata": {
        "id": "nVbFTTCC8gcp"
      },
      "source": [
        "Dari visualisasi di atas, ternyata peminjam yang default ternyata property_value dan incomenya memiliki rata-rata yang lebih tinggi dibandingkan dengan yang tidak default. Hal ini dikarenakan property_value dan income memiliki korelasi yang cukup tinggi dengan loan_amount, sehingga semakin tinggi property_value dan income-nya, semakin tinggi pula loan_amount-nya."
      ]
    },
    {
      "cell_type": "code",
      "execution_count": 29,
      "metadata": {
        "colab": {
          "base_uri": "https://localhost:8080/",
          "height": 341
        },
        "id": "txPQGDtP8gcp",
        "outputId": "12122183-32c0-446a-e451-8889b4c927cc"
      },
      "outputs": [
        {
          "output_type": "execute_result",
          "data": {
            "text/plain": [
              "array([<matplotlib.axes._subplots.AxesSubplot object at 0x7f7b1f94c990>,\n",
              "       <matplotlib.axes._subplots.AxesSubplot object at 0x7f7b1f8ecb90>],\n",
              "      dtype=object)"
            ]
          },
          "metadata": {},
          "execution_count": 29
        },
        {
          "output_type": "display_data",
          "data": {
            "text/plain": [
              "<Figure size 432x288 with 2 Axes>"
            ],
            "image/png": "[encoded data removed]"
          },
          "metadata": {
            "needs_background": "light"
          }
        }
      ],
      "source": [
        "df['term'].hist(by=df['Status'],density=True, color='coral')"
      ]
    },
    {
      "cell_type": "markdown",
      "metadata": {
        "id": "dz4McYAD8gcq"
      },
      "source": [
        "Pada visualisasi di atas, terlihat bahwa baik di status 0 maupun 1, semakin panjang `term`-nya, semakin banyak aplikasi pinjamannya. Hal ini mungkin dikarenakan jangka waktu pinjaman yang panjang membuat pembayaran tiap bulannya lebih rendah."
      ]
    },
    {
      "cell_type": "code",
      "execution_count": 30,
      "metadata": {
        "colab": {
          "base_uri": "https://localhost:8080/",
          "height": 143
        },
        "id": "18rVKZ4H8gcq",
        "outputId": "624f1790-a3b7-48f5-d0f5-b02b3f024ce0"
      },
      "outputs": [
        {
          "output_type": "execute_result",
          "data": {
            "text/plain": [
              "           count      mean       std  min  25%  50%  75%  max\n",
              "Status                                                       \n",
              "0       112031.0  1.018977  0.187050  1.0  1.0  1.0  1.0  4.0\n",
              "1        36639.0  1.029941  0.229882  1.0  1.0  1.0  1.0  4.0"
            ],
            "text/html": [
              "\n",
              "  <div id=\"df-e272f483-fd94-4ac2-b10b-3ca4071ced5b\">\n",
              "    <div class=\"colab-df-container\">\n",
              "      <div>\n",
              "<style scoped>\n",
              "    .dataframe tbody tr th:only-of-type {\n",
              "        vertical-align: middle;\n",
              "    }\n",
              "\n",
              "    .dataframe tbody tr th {\n",
              "        vertical-align: top;\n",
              "    }\n",
              "\n",
              "    .dataframe thead th {\n",
              "        text-align: right;\n",
              "    }\n",
              "</style>\n",
              "<table border=\"1\" class=\"dataframe\">\n",
              "  <thead>\n",
              "    <tr style=\"text-align: right;\">\n",
              "      <th></th>\n",
              "      <th>count</th>\n",
              "      <th>mean</th>\n",
              "      <th>std</th>\n",
              "      <th>min</th>\n",
              "      <th>25%</th>\n",
              "      <th>50%</th>\n",
              "      <th>75%</th>\n",
              "      <th>max</th>\n",
              "    </tr>\n",
              "    <tr>\n",
              "      <th>Status</th>\n",
              "      <th></th>\n",
              "      <th></th>\n",
              "      <th></th>\n",
              "      <th></th>\n",
              "      <th></th>\n",
              "      <th></th>\n",
              "      <th></th>\n",
              "      <th></th>\n",
              "    </tr>\n",
              "  </thead>\n",
              "  <tbody>\n",
              "    <tr>\n",
              "      <th>0</th>\n",
              "      <td>112031.0</td>\n",
              "      <td>1.018977</td>\n",
              "      <td>0.187050</td>\n",
              "      <td>1.0</td>\n",
              "      <td>1.0</td>\n",
              "      <td>1.0</td>\n",
              "      <td>1.0</td>\n",
              "      <td>4.0</td>\n",
              "    </tr>\n",
              "    <tr>\n",
              "      <th>1</th>\n",
              "      <td>36639.0</td>\n",
              "      <td>1.029941</td>\n",
              "      <td>0.229882</td>\n",
              "      <td>1.0</td>\n",
              "      <td>1.0</td>\n",
              "      <td>1.0</td>\n",
              "      <td>1.0</td>\n",
              "      <td>4.0</td>\n",
              "    </tr>\n",
              "  </tbody>\n",
              "</table>\n",
              "</div>\n",
              "      <button class=\"colab-df-convert\" onclick=\"convertToInteractive('df-e272f483-fd94-4ac2-b10b-3ca4071ced5b')\"\n",
              "              title=\"Convert this dataframe to an interactive table.\"\n",
              "              style=\"display:none;\">\n",
              "        \n",
              "  <svg xmlns=\"http://www.w3.org/2000/svg\" height=\"24px\"viewBox=\"0 0 24 24\"\n",
              "       width=\"24px\">\n",
              "    <path d=\"M0 0h24v24H0V0z\" fill=\"none\"/>\n",
              "    <path d=\"M18.56 5.44l.94 2.06.94-2.06 2.06-.94-2.06-.94-.94-2.06-.94 2.06-2.06.94zm-11 1L8.5 8.5l.94-2.06 2.06-.94-2.06-.94L8.5 2.5l-.94 2.06-2.06.94zm10 10l.94 2.06.94-2.06 2.06-.94-2.06-.94-.94-2.06-.94 2.06-2.06.94z\"/><path d=\"M17.41 7.96l-1.37-1.37c-.4-.4-.92-.59-1.43-.59-.52 0-1.04.2-1.43.59L10.3 9.45l-7.72 7.72c-.78.78-.78 2.05 0 2.83L4 21.41c.39.39.9.59 1.41.59.51 0 1.02-.2 1.41-.59l7.78-7.78 2.81-2.81c.8-.78.8-2.07 0-2.86zM5.41 20L4 18.59l7.72-7.72 1.47 1.35L5.41 20z\"/>\n",
              "  </svg>\n",
              "      </button>\n",
              "      \n",
              "  <style>\n",
              "    .colab-df-container {\n",
              "      display:flex;\n",
              "      flex-wrap:wrap;\n",
              "      gap: 12px;\n",
              "    }\n",
              "\n",
              "    .colab-df-convert {\n",
              "      background-color: #E8F0FE;\n",
              "      border: none;\n",
              "      border-radius: 50%;\n",
              "      cursor: pointer;\n",
              "      display: none;\n",
              "      fill: #1967D2;\n",
              "      height: 32px;\n",
              "      padding: 0 0 0 0;\n",
              "      width: 32px;\n",
              "    }\n",
              "\n",
              "    .colab-df-convert:hover {\n",
              "      background-color: #E2EBFA;\n",
              "      box-shadow: 0px 1px 2px rgba(60, 64, 67, 0.3), 0px 1px 3px 1px rgba(60, 64, 67, 0.15);\n",
              "      fill: #174EA6;\n",
              "    }\n",
              "\n",
              "    [theme=dark] .colab-df-convert {\n",
              "      background-color: #3B4455;\n",
              "      fill: #D2E3FC;\n",
              "    }\n",
              "\n",
              "    [theme=dark] .colab-df-convert:hover {\n",
              "      background-color: #434B5C;\n",
              "      box-shadow: 0px 1px 3px 1px rgba(0, 0, 0, 0.15);\n",
              "      filter: drop-shadow(0px 1px 2px rgba(0, 0, 0, 0.3));\n",
              "      fill: #FFFFFF;\n",
              "    }\n",
              "  </style>\n",
              "\n",
              "      <script>\n",
              "        const buttonEl =\n",
              "          document.querySelector('#df-e272f483-fd94-4ac2-b10b-3ca4071ced5b button.colab-df-convert');\n",
              "        buttonEl.style.display =\n",
              "          google.colab.kernel.accessAllowed ? 'block' : 'none';\n",
              "\n",
              "        async function convertToInteractive(key) {\n",
              "          const element = document.querySelector('#df-e272f483-fd94-4ac2-b10b-3ca4071ced5b');\n",
              "          const dataTable =\n",
              "            await google.colab.kernel.invokeFunction('convertToInteractive',\n",
              "                                                     [key], {});\n",
              "          if (!dataTable) return;\n",
              "\n",
              "          const docLinkHtml = 'Like what you see? Visit the ' +\n",
              "            '<a target=\"_blank\" href=https://colab.research.google.com/notebooks/data_table.ipynb>data table notebook</a>'\n",
              "            + ' to learn more about interactive tables.';\n",
              "          element.innerHTML = '';\n",
              "          dataTable['output_type'] = 'display_data';\n",
              "          await google.colab.output.renderOutput(dataTable, element);\n",
              "          const docLink = document.createElement('div');\n",
              "          docLink.innerHTML = docLinkHtml;\n",
              "          element.appendChild(docLink);\n",
              "        }\n",
              "      </script>\n",
              "    </div>\n",
              "  </div>\n",
              "  "
            ]
          },
          "metadata": {},
          "execution_count": 30
        }
      ],
      "source": [
        "df.groupby([('Status')])['total_units'].describe()"
      ]
    },
    {
      "cell_type": "code",
      "execution_count": 31,
      "metadata": {
        "colab": {
          "base_uri": "https://localhost:8080/",
          "height": 143
        },
        "id": "XPep-gDj8gcq",
        "outputId": "57aa85dc-f86a-43c1-b699-8e68c3ef2d3f"
      },
      "outputs": [
        {
          "output_type": "execute_result",
          "data": {
            "text/plain": [
              "           count       mean        std       min        25%        50%  \\\n",
              "Status                                                                   \n",
              "0       112031.0  72.064769  41.768526  2.072943  59.970817  74.504405   \n",
              "1        36639.0  74.830853  21.984413  0.967478  72.746457  72.746457   \n",
              "\n",
              "              75%      max  \n",
              "Status                      \n",
              "0       85.201149  7831.25  \n",
              "1       82.335907  2956.25  "
            ],
            "text/html": [
              "\n",
              "  <div id=\"df-f1ab3168-f80b-4e5d-8d00-ac6a2a5b2565\">\n",
              "    <div class=\"colab-df-container\">\n",
              "      <div>\n",
              "<style scoped>\n",
              "    .dataframe tbody tr th:only-of-type {\n",
              "        vertical-align: middle;\n",
              "    }\n",
              "\n",
              "    .dataframe tbody tr th {\n",
              "        vertical-align: top;\n",
              "    }\n",
              "\n",
              "    .dataframe thead th {\n",
              "        text-align: right;\n",
              "    }\n",
              "</style>\n",
              "<table border=\"1\" class=\"dataframe\">\n",
              "  <thead>\n",
              "    <tr style=\"text-align: right;\">\n",
              "      <th></th>\n",
              "      <th>count</th>\n",
              "      <th>mean</th>\n",
              "      <th>std</th>\n",
              "      <th>min</th>\n",
              "      <th>25%</th>\n",
              "      <th>50%</th>\n",
              "      <th>75%</th>\n",
              "      <th>max</th>\n",
              "    </tr>\n",
              "    <tr>\n",
              "      <th>Status</th>\n",
              "      <th></th>\n",
              "      <th></th>\n",
              "      <th></th>\n",
              "      <th></th>\n",
              "      <th></th>\n",
              "      <th></th>\n",
              "      <th></th>\n",
              "      <th></th>\n",
              "    </tr>\n",
              "  </thead>\n",
              "  <tbody>\n",
              "    <tr>\n",
              "      <th>0</th>\n",
              "      <td>112031.0</td>\n",
              "      <td>72.064769</td>\n",
              "      <td>41.768526</td>\n",
              "      <td>2.072943</td>\n",
              "      <td>59.970817</td>\n",
              "      <td>74.504405</td>\n",
              "      <td>85.201149</td>\n",
              "      <td>7831.25</td>\n",
              "    </tr>\n",
              "    <tr>\n",
              "      <th>1</th>\n",
              "      <td>36639.0</td>\n",
              "      <td>74.830853</td>\n",
              "      <td>21.984413</td>\n",
              "      <td>0.967478</td>\n",
              "      <td>72.746457</td>\n",
              "      <td>72.746457</td>\n",
              "      <td>82.335907</td>\n",
              "      <td>2956.25</td>\n",
              "    </tr>\n",
              "  </tbody>\n",
              "</table>\n",
              "</div>\n",
              "      <button class=\"colab-df-convert\" onclick=\"convertToInteractive('df-f1ab3168-f80b-4e5d-8d00-ac6a2a5b2565')\"\n",
              "              title=\"Convert this dataframe to an interactive table.\"\n",
              "              style=\"display:none;\">\n",
              "        \n",
              "  <svg xmlns=\"http://www.w3.org/2000/svg\" height=\"24px\"viewBox=\"0 0 24 24\"\n",
              "       width=\"24px\">\n",
              "    <path d=\"M0 0h24v24H0V0z\" fill=\"none\"/>\n",
              "    <path d=\"M18.56 5.44l.94 2.06.94-2.06 2.06-.94-2.06-.94-.94-2.06-.94 2.06-2.06.94zm-11 1L8.5 8.5l.94-2.06 2.06-.94-2.06-.94L8.5 2.5l-.94 2.06-2.06.94zm10 10l.94 2.06.94-2.06 2.06-.94-2.06-.94-.94-2.06-.94 2.06-2.06.94z\"/><path d=\"M17.41 7.96l-1.37-1.37c-.4-.4-.92-.59-1.43-.59-.52 0-1.04.2-1.43.59L10.3 9.45l-7.72 7.72c-.78.78-.78 2.05 0 2.83L4 21.41c.39.39.9.59 1.41.59.51 0 1.02-.2 1.41-.59l7.78-7.78 2.81-2.81c.8-.78.8-2.07 0-2.86zM5.41 20L4 18.59l7.72-7.72 1.47 1.35L5.41 20z\"/>\n",
              "  </svg>\n",
              "      </button>\n",
              "      \n",
              "  <style>\n",
              "    .colab-df-container {\n",
              "      display:flex;\n",
              "      flex-wrap:wrap;\n",
              "      gap: 12px;\n",
              "    }\n",
              "\n",
              "    .colab-df-convert {\n",
              "      background-color: #E8F0FE;\n",
              "      border: none;\n",
              "      border-radius: 50%;\n",
              "      cursor: pointer;\n",
              "      display: none;\n",
              "      fill: #1967D2;\n",
              "      height: 32px;\n",
              "      padding: 0 0 0 0;\n",
              "      width: 32px;\n",
              "    }\n",
              "\n",
              "    .colab-df-convert:hover {\n",
              "      background-color: #E2EBFA;\n",
              "      box-shadow: 0px 1px 2px rgba(60, 64, 67, 0.3), 0px 1px 3px 1px rgba(60, 64, 67, 0.15);\n",
              "      fill: #174EA6;\n",
              "    }\n",
              "\n",
              "    [theme=dark] .colab-df-convert {\n",
              "      background-color: #3B4455;\n",
              "      fill: #D2E3FC;\n",
              "    }\n",
              "\n",
              "    [theme=dark] .colab-df-convert:hover {\n",
              "      background-color: #434B5C;\n",
              "      box-shadow: 0px 1px 3px 1px rgba(0, 0, 0, 0.15);\n",
              "      filter: drop-shadow(0px 1px 2px rgba(0, 0, 0, 0.3));\n",
              "      fill: #FFFFFF;\n",
              "    }\n",
              "  </style>\n",
              "\n",
              "      <script>\n",
              "        const buttonEl =\n",
              "          document.querySelector('#df-f1ab3168-f80b-4e5d-8d00-ac6a2a5b2565 button.colab-df-convert');\n",
              "        buttonEl.style.display =\n",
              "          google.colab.kernel.accessAllowed ? 'block' : 'none';\n",
              "\n",
              "        async function convertToInteractive(key) {\n",
              "          const element = document.querySelector('#df-f1ab3168-f80b-4e5d-8d00-ac6a2a5b2565');\n",
              "          const dataTable =\n",
              "            await google.colab.kernel.invokeFunction('convertToInteractive',\n",
              "                                                     [key], {});\n",
              "          if (!dataTable) return;\n",
              "\n",
              "          const docLinkHtml = 'Like what you see? Visit the ' +\n",
              "            '<a target=\"_blank\" href=https://colab.research.google.com/notebooks/data_table.ipynb>data table notebook</a>'\n",
              "            + ' to learn more about interactive tables.';\n",
              "          element.innerHTML = '';\n",
              "          dataTable['output_type'] = 'display_data';\n",
              "          await google.colab.output.renderOutput(dataTable, element);\n",
              "          const docLink = document.createElement('div');\n",
              "          docLink.innerHTML = docLinkHtml;\n",
              "          element.appendChild(docLink);\n",
              "        }\n",
              "      </script>\n",
              "    </div>\n",
              "  </div>\n",
              "  "
            ]
          },
          "metadata": {},
          "execution_count": 31
        }
      ],
      "source": [
        "df.groupby([('Status')])['LTV'].describe()"
      ]
    },
    {
      "cell_type": "code",
      "execution_count": 32,
      "metadata": {
        "colab": {
          "base_uri": "https://localhost:8080/",
          "height": 143
        },
        "id": "UXxGLTjM8gcr",
        "outputId": "0e15a1ec-00e1-4714-81d8-e06361373bc8"
      },
      "outputs": [
        {
          "output_type": "execute_result",
          "data": {
            "text/plain": [
              "           count        mean         std    min    25%    50%    75%    max\n",
              "Status                                                                     \n",
              "0       112031.0  699.523793  115.674510  500.0  599.0  699.0  800.0  900.0\n",
              "1        36639.0  700.600344  116.487189  500.0  599.5  700.0  803.0  900.0"
            ],
            "text/html": [
              "\n",
              "  <div id=\"df-c8fc1fdf-4693-4119-be87-64ba10380a3a\">\n",
              "    <div class=\"colab-df-container\">\n",
              "      <div>\n",
              "<style scoped>\n",
              "    .dataframe tbody tr th:only-of-type {\n",
              "        vertical-align: middle;\n",
              "    }\n",
              "\n",
              "    .dataframe tbody tr th {\n",
              "        vertical-align: top;\n",
              "    }\n",
              "\n",
              "    .dataframe thead th {\n",
              "        text-align: right;\n",
              "    }\n",
              "</style>\n",
              "<table border=\"1\" class=\"dataframe\">\n",
              "  <thead>\n",
              "    <tr style=\"text-align: right;\">\n",
              "      <th></th>\n",
              "      <th>count</th>\n",
              "      <th>mean</th>\n",
              "      <th>std</th>\n",
              "      <th>min</th>\n",
              "      <th>25%</th>\n",
              "      <th>50%</th>\n",
              "      <th>75%</th>\n",
              "      <th>max</th>\n",
              "    </tr>\n",
              "    <tr>\n",
              "      <th>Status</th>\n",
              "      <th></th>\n",
              "      <th></th>\n",
              "      <th></th>\n",
              "      <th></th>\n",
              "      <th></th>\n",
              "      <th></th>\n",
              "      <th></th>\n",
              "      <th></th>\n",
              "    </tr>\n",
              "  </thead>\n",
              "  <tbody>\n",
              "    <tr>\n",
              "      <th>0</th>\n",
              "      <td>112031.0</td>\n",
              "      <td>699.523793</td>\n",
              "      <td>115.674510</td>\n",
              "      <td>500.0</td>\n",
              "      <td>599.0</td>\n",
              "      <td>699.0</td>\n",
              "      <td>800.0</td>\n",
              "      <td>900.0</td>\n",
              "    </tr>\n",
              "    <tr>\n",
              "      <th>1</th>\n",
              "      <td>36639.0</td>\n",
              "      <td>700.600344</td>\n",
              "      <td>116.487189</td>\n",
              "      <td>500.0</td>\n",
              "      <td>599.5</td>\n",
              "      <td>700.0</td>\n",
              "      <td>803.0</td>\n",
              "      <td>900.0</td>\n",
              "    </tr>\n",
              "  </tbody>\n",
              "</table>\n",
              "</div>\n",
              "      <button class=\"colab-df-convert\" onclick=\"convertToInteractive('df-c8fc1fdf-4693-4119-be87-64ba10380a3a')\"\n",
              "              title=\"Convert this dataframe to an interactive table.\"\n",
              "              style=\"display:none;\">\n",
              "        \n",
              "  <svg xmlns=\"http://www.w3.org/2000/svg\" height=\"24px\"viewBox=\"0 0 24 24\"\n",
              "       width=\"24px\">\n",
              "    <path d=\"M0 0h24v24H0V0z\" fill=\"none\"/>\n",
              "    <path d=\"M18.56 5.44l.94 2.06.94-2.06 2.06-.94-2.06-.94-.94-2.06-.94 2.06-2.06.94zm-11 1L8.5 8.5l.94-2.06 2.06-.94-2.06-.94L8.5 2.5l-.94 2.06-2.06.94zm10 10l.94 2.06.94-2.06 2.06-.94-2.06-.94-.94-2.06-.94 2.06-2.06.94z\"/><path d=\"M17.41 7.96l-1.37-1.37c-.4-.4-.92-.59-1.43-.59-.52 0-1.04.2-1.43.59L10.3 9.45l-7.72 7.72c-.78.78-.78 2.05 0 2.83L4 21.41c.39.39.9.59 1.41.59.51 0 1.02-.2 1.41-.59l7.78-7.78 2.81-2.81c.8-.78.8-2.07 0-2.86zM5.41 20L4 18.59l7.72-7.72 1.47 1.35L5.41 20z\"/>\n",
              "  </svg>\n",
              "      </button>\n",
              "      \n",
              "  <style>\n",
              "    .colab-df-container {\n",
              "      display:flex;\n",
              "      flex-wrap:wrap;\n",
              "      gap: 12px;\n",
              "    }\n",
              "\n",
              "    .colab-df-convert {\n",
              "      background-color: #E8F0FE;\n",
              "      border: none;\n",
              "      border-radius: 50%;\n",
              "      cursor: pointer;\n",
              "      display: none;\n",
              "      fill: #1967D2;\n",
              "      height: 32px;\n",
              "      padding: 0 0 0 0;\n",
              "      width: 32px;\n",
              "    }\n",
              "\n",
              "    .colab-df-convert:hover {\n",
              "      background-color: #E2EBFA;\n",
              "      box-shadow: 0px 1px 2px rgba(60, 64, 67, 0.3), 0px 1px 3px 1px rgba(60, 64, 67, 0.15);\n",
              "      fill: #174EA6;\n",
              "    }\n",
              "\n",
              "    [theme=dark] .colab-df-convert {\n",
              "      background-color: #3B4455;\n",
              "      fill: #D2E3FC;\n",
              "    }\n",
              "\n",
              "    [theme=dark] .colab-df-convert:hover {\n",
              "      background-color: #434B5C;\n",
              "      box-shadow: 0px 1px 3px 1px rgba(0, 0, 0, 0.15);\n",
              "      filter: drop-shadow(0px 1px 2px rgba(0, 0, 0, 0.3));\n",
              "      fill: #FFFFFF;\n",
              "    }\n",
              "  </style>\n",
              "\n",
              "      <script>\n",
              "        const buttonEl =\n",
              "          document.querySelector('#df-c8fc1fdf-4693-4119-be87-64ba10380a3a button.colab-df-convert');\n",
              "        buttonEl.style.display =\n",
              "          google.colab.kernel.accessAllowed ? 'block' : 'none';\n",
              "\n",
              "        async function convertToInteractive(key) {\n",
              "          const element = document.querySelector('#df-c8fc1fdf-4693-4119-be87-64ba10380a3a');\n",
              "          const dataTable =\n",
              "            await google.colab.kernel.invokeFunction('convertToInteractive',\n",
              "                                                     [key], {});\n",
              "          if (!dataTable) return;\n",
              "\n",
              "          const docLinkHtml = 'Like what you see? Visit the ' +\n",
              "            '<a target=\"_blank\" href=https://colab.research.google.com/notebooks/data_table.ipynb>data table notebook</a>'\n",
              "            + ' to learn more about interactive tables.';\n",
              "          element.innerHTML = '';\n",
              "          dataTable['output_type'] = 'display_data';\n",
              "          await google.colab.output.renderOutput(dataTable, element);\n",
              "          const docLink = document.createElement('div');\n",
              "          docLink.innerHTML = docLinkHtml;\n",
              "          element.appendChild(docLink);\n",
              "        }\n",
              "      </script>\n",
              "    </div>\n",
              "  </div>\n",
              "  "
            ]
          },
          "metadata": {},
          "execution_count": 32
        }
      ],
      "source": [
        "df.groupby([('Status')])['Credit_Score'].describe()"
      ]
    },
    {
      "cell_type": "code",
      "execution_count": 33,
      "metadata": {
        "colab": {
          "base_uri": "https://localhost:8080/",
          "height": 143
        },
        "id": "ABttdS2a8gcr",
        "outputId": "34ba3939-9ed5-408c-a48e-7bef755e1017"
      },
      "outputs": [
        {
          "output_type": "execute_result",
          "data": {
            "text/plain": [
              "           count       mean       std  min        25%        50%   75%   max\n",
              "Status                                                                      \n",
              "0       112031.0  37.394622  9.671765  5.0  32.000000  37.732932  44.0  61.0\n",
              "1        36639.0  38.767383  9.517616  5.0  37.732932  37.732932  43.0  61.0"
            ],
            "text/html": [
              "\n",
              "  <div id=\"df-2ce0a67f-312f-4e9e-8e61-d1593da60c42\">\n",
              "    <div class=\"colab-df-container\">\n",
              "      <div>\n",
              "<style scoped>\n",
              "    .dataframe tbody tr th:only-of-type {\n",
              "        vertical-align: middle;\n",
              "    }\n",
              "\n",
              "    .dataframe tbody tr th {\n",
              "        vertical-align: top;\n",
              "    }\n",
              "\n",
              "    .dataframe thead th {\n",
              "        text-align: right;\n",
              "    }\n",
              "</style>\n",
              "<table border=\"1\" class=\"dataframe\">\n",
              "  <thead>\n",
              "    <tr style=\"text-align: right;\">\n",
              "      <th></th>\n",
              "      <th>count</th>\n",
              "      <th>mean</th>\n",
              "      <th>std</th>\n",
              "      <th>min</th>\n",
              "      <th>25%</th>\n",
              "      <th>50%</th>\n",
              "      <th>75%</th>\n",
              "      <th>max</th>\n",
              "    </tr>\n",
              "    <tr>\n",
              "      <th>Status</th>\n",
              "      <th></th>\n",
              "      <th></th>\n",
              "      <th></th>\n",
              "      <th></th>\n",
              "      <th></th>\n",
              "      <th></th>\n",
              "      <th></th>\n",
              "      <th></th>\n",
              "    </tr>\n",
              "  </thead>\n",
              "  <tbody>\n",
              "    <tr>\n",
              "      <th>0</th>\n",
              "      <td>112031.0</td>\n",
              "      <td>37.394622</td>\n",
              "      <td>9.671765</td>\n",
              "      <td>5.0</td>\n",
              "      <td>32.000000</td>\n",
              "      <td>37.732932</td>\n",
              "      <td>44.0</td>\n",
              "      <td>61.0</td>\n",
              "    </tr>\n",
              "    <tr>\n",
              "      <th>1</th>\n",
              "      <td>36639.0</td>\n",
              "      <td>38.767383</td>\n",
              "      <td>9.517616</td>\n",
              "      <td>5.0</td>\n",
              "      <td>37.732932</td>\n",
              "      <td>37.732932</td>\n",
              "      <td>43.0</td>\n",
              "      <td>61.0</td>\n",
              "    </tr>\n",
              "  </tbody>\n",
              "</table>\n",
              "</div>\n",
              "      <button class=\"colab-df-convert\" onclick=\"convertToInteractive('df-2ce0a67f-312f-4e9e-8e61-d1593da60c42')\"\n",
              "              title=\"Convert this dataframe to an interactive table.\"\n",
              "              style=\"display:none;\">\n",
              "        \n",
              "  <svg xmlns=\"http://www.w3.org/2000/svg\" height=\"24px\"viewBox=\"0 0 24 24\"\n",
              "       width=\"24px\">\n",
              "    <path d=\"M0 0h24v24H0V0z\" fill=\"none\"/>\n",
              "    <path d=\"M18.56 5.44l.94 2.06.94-2.06 2.06-.94-2.06-.94-.94-2.06-.94 2.06-2.06.94zm-11 1L8.5 8.5l.94-2.06 2.06-.94-2.06-.94L8.5 2.5l-.94 2.06-2.06.94zm10 10l.94 2.06.94-2.06 2.06-.94-2.06-.94-.94-2.06-.94 2.06-2.06.94z\"/><path d=\"M17.41 7.96l-1.37-1.37c-.4-.4-.92-.59-1.43-.59-.52 0-1.04.2-1.43.59L10.3 9.45l-7.72 7.72c-.78.78-.78 2.05 0 2.83L4 21.41c.39.39.9.59 1.41.59.51 0 1.02-.2 1.41-.59l7.78-7.78 2.81-2.81c.8-.78.8-2.07 0-2.86zM5.41 20L4 18.59l7.72-7.72 1.47 1.35L5.41 20z\"/>\n",
              "  </svg>\n",
              "      </button>\n",
              "      \n",
              "  <style>\n",
              "    .colab-df-container {\n",
              "      display:flex;\n",
              "      flex-wrap:wrap;\n",
              "      gap: 12px;\n",
              "    }\n",
              "\n",
              "    .colab-df-convert {\n",
              "      background-color: #E8F0FE;\n",
              "      border: none;\n",
              "      border-radius: 50%;\n",
              "      cursor: pointer;\n",
              "      display: none;\n",
              "      fill: #1967D2;\n",
              "      height: 32px;\n",
              "      padding: 0 0 0 0;\n",
              "      width: 32px;\n",
              "    }\n",
              "\n",
              "    .colab-df-convert:hover {\n",
              "      background-color: #E2EBFA;\n",
              "      box-shadow: 0px 1px 2px rgba(60, 64, 67, 0.3), 0px 1px 3px 1px rgba(60, 64, 67, 0.15);\n",
              "      fill: #174EA6;\n",
              "    }\n",
              "\n",
              "    [theme=dark] .colab-df-convert {\n",
              "      background-color: #3B4455;\n",
              "      fill: #D2E3FC;\n",
              "    }\n",
              "\n",
              "    [theme=dark] .colab-df-convert:hover {\n",
              "      background-color: #434B5C;\n",
              "      box-shadow: 0px 1px 3px 1px rgba(0, 0, 0, 0.15);\n",
              "      filter: drop-shadow(0px 1px 2px rgba(0, 0, 0, 0.3));\n",
              "      fill: #FFFFFF;\n",
              "    }\n",
              "  </style>\n",
              "\n",
              "      <script>\n",
              "        const buttonEl =\n",
              "          document.querySelector('#df-2ce0a67f-312f-4e9e-8e61-d1593da60c42 button.colab-df-convert');\n",
              "        buttonEl.style.display =\n",
              "          google.colab.kernel.accessAllowed ? 'block' : 'none';\n",
              "\n",
              "        async function convertToInteractive(key) {\n",
              "          const element = document.querySelector('#df-2ce0a67f-312f-4e9e-8e61-d1593da60c42');\n",
              "          const dataTable =\n",
              "            await google.colab.kernel.invokeFunction('convertToInteractive',\n",
              "                                                     [key], {});\n",
              "          if (!dataTable) return;\n",
              "\n",
              "          const docLinkHtml = 'Like what you see? Visit the ' +\n",
              "            '<a target=\"_blank\" href=https://colab.research.google.com/notebooks/data_table.ipynb>data table notebook</a>'\n",
              "            + ' to learn more about interactive tables.';\n",
              "          element.innerHTML = '';\n",
              "          dataTable['output_type'] = 'display_data';\n",
              "          await google.colab.output.renderOutput(dataTable, element);\n",
              "          const docLink = document.createElement('div');\n",
              "          docLink.innerHTML = docLinkHtml;\n",
              "          element.appendChild(docLink);\n",
              "        }\n",
              "      </script>\n",
              "    </div>\n",
              "  </div>\n",
              "  "
            ]
          },
          "metadata": {},
          "execution_count": 33
        }
      ],
      "source": [
        "df.groupby([('Status')])['dtir1'].describe()"
      ]
    },
    {
      "cell_type": "markdown",
      "metadata": {
        "id": "7Pds0G3x8gcs"
      },
      "source": [
        "Kolom `LTV` dan `total_units` juga tidak begitu berpengaruh terhadap `Status` sehingga kolom tersebut tidak akan dipakai sebagai prediktor. Terakhir, kolom `term`, `Credit_Score` dan `dtir1` memiliki rata-rata sedikit lebih tinggi pada pinjaman yang default. Berikut ditampilkan histogram `Credit_Score` dan `dtir1` berdasarkan statusnya."
      ]
    },
    {
      "cell_type": "code",
      "execution_count": 34,
      "metadata": {
        "colab": {
          "base_uri": "https://localhost:8080/",
          "height": 341
        },
        "id": "3mAmyQch8gcs",
        "outputId": "ab225ed4-ccb6-4a7f-d9e8-426f0f27ef3e"
      },
      "outputs": [
        {
          "output_type": "execute_result",
          "data": {
            "text/plain": [
              "array([<matplotlib.axes._subplots.AxesSubplot object at 0x7f7b1f849e10>,\n",
              "       <matplotlib.axes._subplots.AxesSubplot object at 0x7f7b1f78e290>],\n",
              "      dtype=object)"
            ]
          },
          "metadata": {},
          "execution_count": 34
        },
        {
          "output_type": "display_data",
          "data": {
            "text/plain": [
              "<Figure size 432x288 with 2 Axes>"
            ],
            "image/png": "[encoded data removed]"
          },
          "metadata": {
            "needs_background": "light"
          }
        }
      ],
      "source": [
        "df['Credit_Score'].hist(by=df['Status'],density=True, color='coral')"
      ]
    },
    {
      "cell_type": "code",
      "execution_count": 35,
      "metadata": {
        "colab": {
          "base_uri": "https://localhost:8080/",
          "height": 335
        },
        "id": "r0RqgVv08gcs",
        "outputId": "5f98bf94-5dfc-42a6-f469-c8fe8a444b31"
      },
      "outputs": [
        {
          "output_type": "execute_result",
          "data": {
            "text/plain": [
              "array([<matplotlib.axes._subplots.AxesSubplot object at 0x7f7b1f6e4110>,\n",
              "       <matplotlib.axes._subplots.AxesSubplot object at 0x7f7b1f6feed0>],\n",
              "      dtype=object)"
            ]
          },
          "metadata": {},
          "execution_count": 35
        },
        {
          "output_type": "display_data",
          "data": {
            "text/plain": [
              "<Figure size 432x288 with 2 Axes>"
            ],
            "image/png": "[encoded data removed]"
          },
          "metadata": {
            "needs_background": "light"
          }
        }
      ],
      "source": [
        "df['dtir1'].hist(by=df['Status'],density=True, color='coral')"
      ]
    },
    {
      "cell_type": "markdown",
      "metadata": {
        "id": "sfPYthxs8gct"
      },
      "source": [
        "Pada histogram di atas dapat dilihat bahwa pada `credit_score` pada status 1 cenderung naik seiring bertambahnya score, padahal seharusnya `credit_score` menunjukkan kredibilitas peminjam. Pada kolom `dtr1`, range 40-60 pada status 0 lebih banyak presentasenya dibandingkan dengan status 1. Yang berarti semakin tinggi `dtir`, kemungkinan peminjam untuk tidak default lebih tinggi."
      ]
    },
    {
      "cell_type": "code",
      "execution_count": 36,
      "metadata": {
        "id": "9UXgQlOp8gct"
      },
      "outputs": [],
      "source": [
        "df.drop(['LTV','total_units'], axis = 'columns', inplace = True)"
      ]
    },
    {
      "cell_type": "markdown",
      "metadata": {
        "id": "PebSxueQ8gcu"
      },
      "source": [
        "Selanjutnya akan dipilih kolom-kolom categorical yang akan menjadi feature dengan menggunakan barplot."
      ]
    },
    {
      "cell_type": "code",
      "execution_count": 37,
      "metadata": {
        "colab": {
          "base_uri": "https://localhost:8080/",
          "height": 1000
        },
        "id": "4itlj40E8gcu",
        "outputId": "638ed6e4-4de0-44a9-9d03-70e361c164ce"
      },
      "outputs": [
        {
          "output_type": "execute_result",
          "data": {
            "text/plain": [
              "<matplotlib.axes._subplots.AxesSubplot at 0x7f7b1f4bea10>"
            ]
          },
          "metadata": {},
          "execution_count": 37
        },
        {
          "output_type": "display_data",
          "data": {
            "text/plain": [
              "<Figure size 1440x1440 with 21 Axes>"
            ],
            "image/png": "[encoded data removed]"
          },
          "metadata": {
            "needs_background": "light"
          }
        }
      ],
      "source": [
        "fig, axs = plt.subplots(3,7,figsize=(20,20))\n",
        "\n",
        "\n",
        "pd.crosstab(df['Status'], df['loan_limit']).apply(lambda x: x*100/x.sum(), axis = 1).plot(ax = axs[0][0],kind = 'bar', stacked = True, colormap='spring')\n",
        "pd.crosstab(df['Status'], df['approv_in_adv']).apply(lambda x: x*100/x.sum(), axis = 1).plot(ax = axs[0][1],kind = 'bar', stacked = True, colormap='spring')\n",
        "pd.crosstab(df['Status'], df['loan_type']).apply(lambda x: x*100/x.sum(), axis = 1).plot(ax = axs[0][2],kind = 'bar', stacked = True, colormap='spring')\n",
        "pd.crosstab(df['Status'], df['loan_purpose']).apply(lambda x: x*100/x.sum(), axis = 1).plot(ax = axs[0][3],kind = 'bar', stacked = True, colormap='spring')\n",
        "pd.crosstab(df['Status'], df['Credit_Worthiness']).apply(lambda x: x*100/x.sum(), axis = 1).plot(ax = axs[0][4],kind = 'bar', stacked = True, colormap='spring')\n",
        "pd.crosstab(df['Status'], df['open_credit']).apply(lambda x: x*100/x.sum(), axis = 1).plot(ax = axs[0][5],kind = 'bar', stacked = True, colormap='spring')\n",
        "pd.crosstab(df['Status'], df['Security_Type']).apply(lambda x: x*100/x.sum(), axis = 1).plot(ax = axs[0][6],kind = 'bar', stacked = True, colormap='spring')\n",
        "pd.crosstab(df['Status'], df['business_or_commercial']).apply(lambda x: x*100/x.sum(), axis = 1).plot(ax = axs[1][0],kind = 'bar', stacked = True, colormap='spring')\n",
        "pd.crosstab(df['Status'], df['Neg_ammortization']).apply(lambda x: x*100/x.sum(), axis = 1).plot(ax = axs[1][1],kind = 'bar', stacked = True, colormap='spring')\n",
        "pd.crosstab(df['Status'], df['interest_only']).apply(lambda x: x*100/x.sum(), axis = 1).plot(ax = axs[1][2],kind = 'bar', stacked = True, colormap='spring')\n",
        "pd.crosstab(df['Status'], df['lump_sum_payment']).apply(lambda x: x*100/x.sum(), axis = 1).plot(ax = axs[1][3],kind = 'bar', stacked = True, colormap='spring')\n",
        "pd.crosstab(df['Status'], df['construction_type']).apply(lambda x: x*100/x.sum(), axis = 1).plot(ax = axs[1][4],kind = 'bar', stacked = True, colormap='spring')\n",
        "pd.crosstab(df['Status'], df['occupancy_type']).apply(lambda x: x*100/x.sum(), axis = 1).plot(ax = axs[1][5],kind = 'bar', stacked = True, colormap='spring')\n",
        "pd.crosstab(df['Status'], df['Secured_by']).apply(lambda x: x*100/x.sum(), axis = 1).plot(ax = axs[1][6],kind = 'bar', stacked = True, colormap='spring')\n",
        "pd.crosstab(df['Status'], df['credit_type']).apply(lambda x: x*100/x.sum(), axis = 1).plot(ax = axs[2][1],kind = 'bar', stacked = True, colormap='spring')\n",
        "pd.crosstab(df['Status'], df['co-applicant_credit_type']).apply(lambda x: x*100/x.sum(), axis = 1).plot(ax = axs[2][2],kind = 'bar', stacked = True, colormap='spring')\n",
        "pd.crosstab(df['Status'], df['age']).apply(lambda x: x*100/x.sum(), axis = 1).plot(ax = axs[2][3],kind = 'bar', stacked = True, colormap='spring')\n",
        "pd.crosstab(df['Status'], df['submission_of_application']).apply(lambda x: x*100/x.sum(), axis = 1).plot(ax = axs[2][4],kind = 'bar', stacked = True, colormap='spring')\n",
        "pd.crosstab(df['Status'], df['Region']).apply(lambda x: x*100/x.sum(), axis = 1).plot(ax = axs[2][5],kind = 'bar', stacked = True, colormap='spring')\n"
      ]
    },
    {
      "cell_type": "markdown",
      "metadata": {
        "id": "5or8qE4G8gcv"
      },
      "source": [
        "Pada barplot di atas dapat dilihat dengan jelas bahwa kolom `open_credit`, `interest_only`, `construction_type`, `occupancy_type`, `Secured_by`, `credit_type`, `co-applicant_credit_type`, `region`, dan `Security_Type` tidak memiliki perbedaan jumlah yang signifikan antara pinjaman yang default dan tidak. Maka dari itu, kolom-kolom tersebut akan dihapus dan tidak digunakan sebagai prediktor. "
      ]
    },
    {
      "cell_type": "code",
      "execution_count": 38,
      "metadata": {
        "id": "5ENRN2FT8gcv"
      },
      "outputs": [],
      "source": [
        "df.drop(['open_credit','interest_only','construction_type','occupancy_type','Secured_by','credit_type','Region','Security_Type','co-applicant_credit_type'], axis = 'columns', inplace = True)"
      ]
    },
    {
      "cell_type": "code",
      "execution_count": 39,
      "metadata": {
        "colab": {
          "base_uri": "https://localhost:8080/",
          "height": 143
        },
        "id": "6bn8CYMK8gcw",
        "outputId": "0e9a2cb2-31a8-4c41-a8ba-d324b123ab92"
      },
      "outputs": [
        {
          "output_type": "execute_result",
          "data": {
            "text/plain": [
              "age         25-34      35-44      45-54      55-64      65-74       <25  \\\n",
              "Status                                                                    \n",
              "0       13.294535  22.769591  23.539020  21.522614  13.543573  0.847980   \n",
              "1       11.657839  20.058179  22.912264  23.112599  15.288564  1.062049   \n",
              "\n",
              "age          >74  \n",
              "Status            \n",
              "0       4.482688  \n",
              "1       5.908505  "
            ],
            "text/html": [
              "\n",
              "  <div id=\"df-beed4bfb-3616-4a46-94c7-44f25e26ae13\">\n",
              "    <div class=\"colab-df-container\">\n",
              "      <div>\n",
              "<style scoped>\n",
              "    .dataframe tbody tr th:only-of-type {\n",
              "        vertical-align: middle;\n",
              "    }\n",
              "\n",
              "    .dataframe tbody tr th {\n",
              "        vertical-align: top;\n",
              "    }\n",
              "\n",
              "    .dataframe thead th {\n",
              "        text-align: right;\n",
              "    }\n",
              "</style>\n",
              "<table border=\"1\" class=\"dataframe\">\n",
              "  <thead>\n",
              "    <tr style=\"text-align: right;\">\n",
              "      <th>age</th>\n",
              "      <th>25-34</th>\n",
              "      <th>35-44</th>\n",
              "      <th>45-54</th>\n",
              "      <th>55-64</th>\n",
              "      <th>65-74</th>\n",
              "      <th>&lt;25</th>\n",
              "      <th>&gt;74</th>\n",
              "    </tr>\n",
              "    <tr>\n",
              "      <th>Status</th>\n",
              "      <th></th>\n",
              "      <th></th>\n",
              "      <th></th>\n",
              "      <th></th>\n",
              "      <th></th>\n",
              "      <th></th>\n",
              "      <th></th>\n",
              "    </tr>\n",
              "  </thead>\n",
              "  <tbody>\n",
              "    <tr>\n",
              "      <th>0</th>\n",
              "      <td>13.294535</td>\n",
              "      <td>22.769591</td>\n",
              "      <td>23.539020</td>\n",
              "      <td>21.522614</td>\n",
              "      <td>13.543573</td>\n",
              "      <td>0.847980</td>\n",
              "      <td>4.482688</td>\n",
              "    </tr>\n",
              "    <tr>\n",
              "      <th>1</th>\n",
              "      <td>11.657839</td>\n",
              "      <td>20.058179</td>\n",
              "      <td>22.912264</td>\n",
              "      <td>23.112599</td>\n",
              "      <td>15.288564</td>\n",
              "      <td>1.062049</td>\n",
              "      <td>5.908505</td>\n",
              "    </tr>\n",
              "  </tbody>\n",
              "</table>\n",
              "</div>\n",
              "      <button class=\"colab-df-convert\" onclick=\"convertToInteractive('df-beed4bfb-3616-4a46-94c7-44f25e26ae13')\"\n",
              "              title=\"Convert this dataframe to an interactive table.\"\n",
              "              style=\"display:none;\">\n",
              "        \n",
              "  <svg xmlns=\"http://www.w3.org/2000/svg\" height=\"24px\"viewBox=\"0 0 24 24\"\n",
              "       width=\"24px\">\n",
              "    <path d=\"M0 0h24v24H0V0z\" fill=\"none\"/>\n",
              "    <path d=\"M18.56 5.44l.94 2.06.94-2.06 2.06-.94-2.06-.94-.94-2.06-.94 2.06-2.06.94zm-11 1L8.5 8.5l.94-2.06 2.06-.94-2.06-.94L8.5 2.5l-.94 2.06-2.06.94zm10 10l.94 2.06.94-2.06 2.06-.94-2.06-.94-.94-2.06-.94 2.06-2.06.94z\"/><path d=\"M17.41 7.96l-1.37-1.37c-.4-.4-.92-.59-1.43-.59-.52 0-1.04.2-1.43.59L10.3 9.45l-7.72 7.72c-.78.78-.78 2.05 0 2.83L4 21.41c.39.39.9.59 1.41.59.51 0 1.02-.2 1.41-.59l7.78-7.78 2.81-2.81c.8-.78.8-2.07 0-2.86zM5.41 20L4 18.59l7.72-7.72 1.47 1.35L5.41 20z\"/>\n",
              "  </svg>\n",
              "      </button>\n",
              "      \n",
              "  <style>\n",
              "    .colab-df-container {\n",
              "      display:flex;\n",
              "      flex-wrap:wrap;\n",
              "      gap: 12px;\n",
              "    }\n",
              "\n",
              "    .colab-df-convert {\n",
              "      background-color: #E8F0FE;\n",
              "      border: none;\n",
              "      border-radius: 50%;\n",
              "      cursor: pointer;\n",
              "      display: none;\n",
              "      fill: #1967D2;\n",
              "      height: 32px;\n",
              "      padding: 0 0 0 0;\n",
              "      width: 32px;\n",
              "    }\n",
              "\n",
              "    .colab-df-convert:hover {\n",
              "      background-color: #E2EBFA;\n",
              "      box-shadow: 0px 1px 2px rgba(60, 64, 67, 0.3), 0px 1px 3px 1px rgba(60, 64, 67, 0.15);\n",
              "      fill: #174EA6;\n",
              "    }\n",
              "\n",
              "    [theme=dark] .colab-df-convert {\n",
              "      background-color: #3B4455;\n",
              "      fill: #D2E3FC;\n",
              "    }\n",
              "\n",
              "    [theme=dark] .colab-df-convert:hover {\n",
              "      background-color: #434B5C;\n",
              "      box-shadow: 0px 1px 3px 1px rgba(0, 0, 0, 0.15);\n",
              "      filter: drop-shadow(0px 1px 2px rgba(0, 0, 0, 0.3));\n",
              "      fill: #FFFFFF;\n",
              "    }\n",
              "  </style>\n",
              "\n",
              "      <script>\n",
              "        const buttonEl =\n",
              "          document.querySelector('#df-beed4bfb-3616-4a46-94c7-44f25e26ae13 button.colab-df-convert');\n",
              "        buttonEl.style.display =\n",
              "          google.colab.kernel.accessAllowed ? 'block' : 'none';\n",
              "\n",
              "        async function convertToInteractive(key) {\n",
              "          const element = document.querySelector('#df-beed4bfb-3616-4a46-94c7-44f25e26ae13');\n",
              "          const dataTable =\n",
              "            await google.colab.kernel.invokeFunction('convertToInteractive',\n",
              "                                                     [key], {});\n",
              "          if (!dataTable) return;\n",
              "\n",
              "          const docLinkHtml = 'Like what you see? Visit the ' +\n",
              "            '<a target=\"_blank\" href=https://colab.research.google.com/notebooks/data_table.ipynb>data table notebook</a>'\n",
              "            + ' to learn more about interactive tables.';\n",
              "          element.innerHTML = '';\n",
              "          dataTable['output_type'] = 'display_data';\n",
              "          await google.colab.output.renderOutput(dataTable, element);\n",
              "          const docLink = document.createElement('div');\n",
              "          docLink.innerHTML = docLinkHtml;\n",
              "          element.appendChild(docLink);\n",
              "        }\n",
              "      </script>\n",
              "    </div>\n",
              "  </div>\n",
              "  "
            ]
          },
          "metadata": {},
          "execution_count": 39
        }
      ],
      "source": [
        "pd.crosstab(df['Status'], df['age']).apply(lambda x: x*100/x.sum(), axis = 1)"
      ]
    },
    {
      "cell_type": "markdown",
      "metadata": {
        "id": "dc8trf1J8gcx"
      },
      "source": [
        "Pada kolom `age` dapat dilihat bahwa peminjam dengan usia dibawah 54 cenderung lebih banyak yang tidak default dibandingkan dengan peminjam diatas usia 54."
      ]
    },
    {
      "cell_type": "code",
      "source": [
        "pd.crosstab(df['Status'], df['loan_type']).apply(lambda x: x*100/x.sum(), axis = 1)"
      ],
      "metadata": {
        "colab": {
          "base_uri": "https://localhost:8080/",
          "height": 143
        },
        "id": "sugvc1NW-UTh",
        "outputId": "98bf29ca-dbc5-436d-faf7-826eb2106a91"
      },
      "execution_count": 40,
      "outputs": [
        {
          "output_type": "execute_result",
          "data": {
            "text/plain": [
              "loan_type      type1      type2      type3\n",
              "Status                                    \n",
              "0          78.012336  12.130571   9.857093\n",
              "1          70.348536  19.574770  10.076694"
            ],
            "text/html": [
              "\n",
              "  <div id=\"df-7eaca03b-8fbc-4bdf-a502-a4a66c9bbd61\">\n",
              "    <div class=\"colab-df-container\">\n",
              "      <div>\n",
              "<style scoped>\n",
              "    .dataframe tbody tr th:only-of-type {\n",
              "        vertical-align: middle;\n",
              "    }\n",
              "\n",
              "    .dataframe tbody tr th {\n",
              "        vertical-align: top;\n",
              "    }\n",
              "\n",
              "    .dataframe thead th {\n",
              "        text-align: right;\n",
              "    }\n",
              "</style>\n",
              "<table border=\"1\" class=\"dataframe\">\n",
              "  <thead>\n",
              "    <tr style=\"text-align: right;\">\n",
              "      <th>loan_type</th>\n",
              "      <th>type1</th>\n",
              "      <th>type2</th>\n",
              "      <th>type3</th>\n",
              "    </tr>\n",
              "    <tr>\n",
              "      <th>Status</th>\n",
              "      <th></th>\n",
              "      <th></th>\n",
              "      <th></th>\n",
              "    </tr>\n",
              "  </thead>\n",
              "  <tbody>\n",
              "    <tr>\n",
              "      <th>0</th>\n",
              "      <td>78.012336</td>\n",
              "      <td>12.130571</td>\n",
              "      <td>9.857093</td>\n",
              "    </tr>\n",
              "    <tr>\n",
              "      <th>1</th>\n",
              "      <td>70.348536</td>\n",
              "      <td>19.574770</td>\n",
              "      <td>10.076694</td>\n",
              "    </tr>\n",
              "  </tbody>\n",
              "</table>\n",
              "</div>\n",
              "      <button class=\"colab-df-convert\" onclick=\"convertToInteractive('df-7eaca03b-8fbc-4bdf-a502-a4a66c9bbd61')\"\n",
              "              title=\"Convert this dataframe to an interactive table.\"\n",
              "              style=\"display:none;\">\n",
              "        \n",
              "  <svg xmlns=\"http://www.w3.org/2000/svg\" height=\"24px\"viewBox=\"0 0 24 24\"\n",
              "       width=\"24px\">\n",
              "    <path d=\"M0 0h24v24H0V0z\" fill=\"none\"/>\n",
              "    <path d=\"M18.56 5.44l.94 2.06.94-2.06 2.06-.94-2.06-.94-.94-2.06-.94 2.06-2.06.94zm-11 1L8.5 8.5l.94-2.06 2.06-.94-2.06-.94L8.5 2.5l-.94 2.06-2.06.94zm10 10l.94 2.06.94-2.06 2.06-.94-2.06-.94-.94-2.06-.94 2.06-2.06.94z\"/><path d=\"M17.41 7.96l-1.37-1.37c-.4-.4-.92-.59-1.43-.59-.52 0-1.04.2-1.43.59L10.3 9.45l-7.72 7.72c-.78.78-.78 2.05 0 2.83L4 21.41c.39.39.9.59 1.41.59.51 0 1.02-.2 1.41-.59l7.78-7.78 2.81-2.81c.8-.78.8-2.07 0-2.86zM5.41 20L4 18.59l7.72-7.72 1.47 1.35L5.41 20z\"/>\n",
              "  </svg>\n",
              "      </button>\n",
              "      \n",
              "  <style>\n",
              "    .colab-df-container {\n",
              "      display:flex;\n",
              "      flex-wrap:wrap;\n",
              "      gap: 12px;\n",
              "    }\n",
              "\n",
              "    .colab-df-convert {\n",
              "      background-color: #E8F0FE;\n",
              "      border: none;\n",
              "      border-radius: 50%;\n",
              "      cursor: pointer;\n",
              "      display: none;\n",
              "      fill: #1967D2;\n",
              "      height: 32px;\n",
              "      padding: 0 0 0 0;\n",
              "      width: 32px;\n",
              "    }\n",
              "\n",
              "    .colab-df-convert:hover {\n",
              "      background-color: #E2EBFA;\n",
              "      box-shadow: 0px 1px 2px rgba(60, 64, 67, 0.3), 0px 1px 3px 1px rgba(60, 64, 67, 0.15);\n",
              "      fill: #174EA6;\n",
              "    }\n",
              "\n",
              "    [theme=dark] .colab-df-convert {\n",
              "      background-color: #3B4455;\n",
              "      fill: #D2E3FC;\n",
              "    }\n",
              "\n",
              "    [theme=dark] .colab-df-convert:hover {\n",
              "      background-color: #434B5C;\n",
              "      box-shadow: 0px 1px 3px 1px rgba(0, 0, 0, 0.15);\n",
              "      filter: drop-shadow(0px 1px 2px rgba(0, 0, 0, 0.3));\n",
              "      fill: #FFFFFF;\n",
              "    }\n",
              "  </style>\n",
              "\n",
              "      <script>\n",
              "        const buttonEl =\n",
              "          document.querySelector('#df-7eaca03b-8fbc-4bdf-a502-a4a66c9bbd61 button.colab-df-convert');\n",
              "        buttonEl.style.display =\n",
              "          google.colab.kernel.accessAllowed ? 'block' : 'none';\n",
              "\n",
              "        async function convertToInteractive(key) {\n",
              "          const element = document.querySelector('#df-7eaca03b-8fbc-4bdf-a502-a4a66c9bbd61');\n",
              "          const dataTable =\n",
              "            await google.colab.kernel.invokeFunction('convertToInteractive',\n",
              "                                                     [key], {});\n",
              "          if (!dataTable) return;\n",
              "\n",
              "          const docLinkHtml = 'Like what you see? Visit the ' +\n",
              "            '<a target=\"_blank\" href=https://colab.research.google.com/notebooks/data_table.ipynb>data table notebook</a>'\n",
              "            + ' to learn more about interactive tables.';\n",
              "          element.innerHTML = '';\n",
              "          dataTable['output_type'] = 'display_data';\n",
              "          await google.colab.output.renderOutput(dataTable, element);\n",
              "          const docLink = document.createElement('div');\n",
              "          docLink.innerHTML = docLinkHtml;\n",
              "          element.appendChild(docLink);\n",
              "        }\n",
              "      </script>\n",
              "    </div>\n",
              "  </div>\n",
              "  "
            ]
          },
          "metadata": {},
          "execution_count": 40
        }
      ]
    },
    {
      "cell_type": "markdown",
      "source": [
        "Dapat dilihat bahwa peminjam yang diapprove memiliki persentase yang lebih tinggi pada tipe 2 dan 3 nya dibandingkan dengan yang tidak diapprove. Pada model ini, kolom `age` dan `loan_type` akan digunakan sebagai prediktor. Kolom lainnya yang tidak digunakan akan dihapus."
      ],
      "metadata": {
        "id": "vIYAkRqc9y0f"
      }
    },
    {
      "cell_type": "code",
      "source": [
        "df2 = df.copy()"
      ],
      "metadata": {
        "id": "lZRBKuxNBKR0"
      },
      "execution_count": 41,
      "outputs": []
    },
    {
      "cell_type": "code",
      "execution_count": 42,
      "metadata": {
        "id": "FpobUXjW8gcw"
      },
      "outputs": [],
      "source": [
        "df2.drop(['lump_sum_payment','Neg_ammortization','business_or_commercial','loan_purpose','approv_in_adv','loan_limit','Credit_Worthiness','submission_of_application'], axis = 'columns', inplace = True)"
      ]
    },
    {
      "cell_type": "code",
      "execution_count": 43,
      "metadata": {
        "colab": {
          "base_uri": "https://localhost:8080/"
        },
        "id": "JAlRKEfD8gcx",
        "outputId": "7d014eac-1775-4b81-e609-308b62ece365"
      },
      "outputs": [
        {
          "output_type": "stream",
          "name": "stdout",
          "text": [
            "<class 'pandas.core.frame.DataFrame'>\n",
            "RangeIndex: 148670 entries, 0 to 148669\n",
            "Data columns (total 9 columns):\n",
            " #   Column          Non-Null Count   Dtype  \n",
            "---  ------          --------------   -----  \n",
            " 0   loan_type       148670 non-null  object \n",
            " 1   loan_amount     148670 non-null  int64  \n",
            " 2   term            148670 non-null  float64\n",
            " 3   property_value  148670 non-null  float64\n",
            " 4   income          148670 non-null  float64\n",
            " 5   Credit_Score    148670 non-null  int64  \n",
            " 6   age             148470 non-null  object \n",
            " 7   Status          148670 non-null  int64  \n",
            " 8   dtir1           148670 non-null  float64\n",
            "dtypes: float64(4), int64(3), object(2)\n",
            "memory usage: 10.2+ MB\n"
          ]
        }
      ],
      "source": [
        "df2.info()"
      ]
    },
    {
      "cell_type": "markdown",
      "metadata": {
        "id": "4BusS4Lc8gc0"
      },
      "source": [
        "Feature yang digunakan adalah `loan_type`, `loan_amount`, `term`, `property_value`, `income`, `Credit_Score`, `age`, dan `dtir1`."
      ]
    },
    {
      "cell_type": "code",
      "execution_count": 44,
      "metadata": {
        "colab": {
          "base_uri": "https://localhost:8080/"
        },
        "id": "15D8CCdp8gc0",
        "outputId": "de384c6c-8a30-4a4c-b71f-6771a98c036d"
      },
      "outputs": [
        {
          "output_type": "execute_result",
          "data": {
            "text/plain": [
              "0    112031\n",
              "1     36639\n",
              "Name: Status, dtype: int64"
            ]
          },
          "metadata": {},
          "execution_count": 44
        }
      ],
      "source": [
        "df2['Status'].value_counts()"
      ]
    },
    {
      "cell_type": "code",
      "source": [
        "sns.countplot(data = df2, x = 'Status', color='coral')"
      ],
      "metadata": {
        "colab": {
          "base_uri": "https://localhost:8080/",
          "height": 296
        },
        "id": "CqdJTCvnVji9",
        "outputId": "b6fc64cc-726c-44d1-ed5d-e5f087b268af"
      },
      "execution_count": 45,
      "outputs": [
        {
          "output_type": "execute_result",
          "data": {
            "text/plain": [
              "<matplotlib.axes._subplots.AxesSubplot at 0x7f7b1f687d50>"
            ]
          },
          "metadata": {},
          "execution_count": 45
        },
        {
          "output_type": "display_data",
          "data": {
            "text/plain": [
              "<Figure size 432x288 with 1 Axes>"
            ],
            "image/png": "[encoded data removed]"
          },
          "metadata": {
            "needs_background": "light"
          }
        }
      ]
    },
    {
      "cell_type": "markdown",
      "metadata": {
        "id": "nbmh9oru8gc0"
      },
      "source": [
        "Kolom `status` memiliki data yang tidak seimbang. Oleh karena itu, akan dilakukan resampling terlebih dahulu."
      ]
    },
    {
      "cell_type": "markdown",
      "metadata": {
        "id": "siSZWKSH8gc0"
      },
      "source": [
        "### Model Building"
      ]
    },
    {
      "cell_type": "markdown",
      "source": [
        "#### Resampling & One Hot Encoding"
      ],
      "metadata": {
        "id": "R28tIWYe-vqr"
      }
    },
    {
      "cell_type": "markdown",
      "metadata": {
        "id": "TwQIvgI08gc3"
      },
      "source": [
        "Sebelum melakukan one-hot encoding, akn dilakukan resampling data terlebih dahulu karena terdapat perbedaan banyaknya data yang disetujui dan ditolak pada kolom `Status`."
      ]
    },
    {
      "cell_type": "code",
      "execution_count": 46,
      "metadata": {
        "id": "sC1S2IRj8gc3"
      },
      "outputs": [],
      "source": [
        "from sklearn.utils import resample\n",
        "\n",
        "#create two different dataframe of majority and minority class \n",
        "df_majority = df2[(df2['Status']==0)] \n",
        "df_minority = df2[(df2['Status']==1)] \n",
        "# downsample majority class\n",
        "df_majority_downsampled = resample(df_majority, \n",
        "                                 replace=True,    # sample with replacement\n",
        "                                 n_samples=36639, # to match minority class\n",
        "                                 random_state=42)  # reproducible results\n",
        "# Combine downsampled majority class with minority class\n",
        "df_downsampled = pd.concat([df_majority_downsampled, df_minority])"
      ]
    },
    {
      "cell_type": "code",
      "execution_count": 47,
      "metadata": {
        "colab": {
          "base_uri": "https://localhost:8080/"
        },
        "id": "u_X-1w0x8gc4",
        "outputId": "b6e5c40c-29ae-413b-9e71-5e32b93cfd8a"
      },
      "outputs": [
        {
          "output_type": "execute_result",
          "data": {
            "text/plain": [
              "0    36639\n",
              "1    36639\n",
              "Name: Status, dtype: int64"
            ]
          },
          "metadata": {},
          "execution_count": 47
        }
      ],
      "source": [
        "df_downsampled['Status'].value_counts()"
      ]
    },
    {
      "cell_type": "code",
      "source": [
        "sns.countplot(data=df_downsampled,x='Status',color='coral')"
      ],
      "metadata": {
        "colab": {
          "base_uri": "https://localhost:8080/",
          "height": 296
        },
        "id": "4-1O-20PWs0v",
        "outputId": "fc13cb3c-3925-4b1d-8874-92707485aadd"
      },
      "execution_count": 48,
      "outputs": [
        {
          "output_type": "execute_result",
          "data": {
            "text/plain": [
              "<matplotlib.axes._subplots.AxesSubplot at 0x7f7b1e830350>"
            ]
          },
          "metadata": {},
          "execution_count": 48
        },
        {
          "output_type": "display_data",
          "data": {
            "text/plain": [
              "<Figure size 432x288 with 1 Axes>"
            ],
            "image/png": "[encoded data removed]"
          },
          "metadata": {
            "needs_background": "light"
          }
        }
      ]
    },
    {
      "cell_type": "code",
      "execution_count": 49,
      "metadata": {
        "colab": {
          "base_uri": "https://localhost:8080/",
          "height": 288
        },
        "id": "qNjmiGjF8gc4",
        "outputId": "809f5038-4489-49f9-a5a0-d92019fe9fb2"
      },
      "outputs": [
        {
          "output_type": "execute_result",
          "data": {
            "text/plain": [
              "        loan_amount   term  property_value       income  Credit_Score  Status  \\\n",
              "20907        256500  360.0        268000.0  6957.338876           565       0   \n",
              "1156         216500  240.0        338000.0  7500.000000           619       0   \n",
              "137562       146500  360.0        178000.0  4200.000000           603       0   \n",
              "146313       586500  360.0        728000.0  6780.000000           530       0   \n",
              "101844       166500  360.0        178000.0  4500.000000           725       0   \n",
              "\n",
              "            dtir1  loan_type_type1  loan_type_type2  loan_type_type3  \\\n",
              "20907   37.732932                0                1                0   \n",
              "1156     9.000000                1                0                0   \n",
              "137562  48.000000                0                1                0   \n",
              "146313  55.000000                0                1                0   \n",
              "101844  36.000000                1                0                0   \n",
              "\n",
              "        age_25-34  age_35-44  age_45-54  age_55-64  age_65-74  age_<25  \\\n",
              "20907           0          0          0          0          0        1   \n",
              "1156            0          1          0          0          0        0   \n",
              "137562          0          0          1          0          0        0   \n",
              "146313          0          0          0          1          0        0   \n",
              "101844          0          0          1          0          0        0   \n",
              "\n",
              "        age_>74  \n",
              "20907         0  \n",
              "1156          0  \n",
              "137562        0  \n",
              "146313        0  \n",
              "101844        0  "
            ],
            "text/html": [
              "\n",
              "  <div id=\"df-5118f30e-d1a6-4042-ac55-ee8b422bd6e0\">\n",
              "    <div class=\"colab-df-container\">\n",
              "      <div>\n",
              "<style scoped>\n",
              "    .dataframe tbody tr th:only-of-type {\n",
              "        vertical-align: middle;\n",
              "    }\n",
              "\n",
              "    .dataframe tbody tr th {\n",
              "        vertical-align: top;\n",
              "    }\n",
              "\n",
              "    .dataframe thead th {\n",
              "        text-align: right;\n",
              "    }\n",
              "</style>\n",
              "<table border=\"1\" class=\"dataframe\">\n",
              "  <thead>\n",
              "    <tr style=\"text-align: right;\">\n",
              "      <th></th>\n",
              "      <th>loan_amount</th>\n",
              "      <th>term</th>\n",
              "      <th>property_value</th>\n",
              "      <th>income</th>\n",
              "      <th>Credit_Score</th>\n",
              "      <th>Status</th>\n",
              "      <th>dtir1</th>\n",
              "      <th>loan_type_type1</th>\n",
              "      <th>loan_type_type2</th>\n",
              "      <th>loan_type_type3</th>\n",
              "      <th>age_25-34</th>\n",
              "      <th>age_35-44</th>\n",
              "      <th>age_45-54</th>\n",
              "      <th>age_55-64</th>\n",
              "      <th>age_65-74</th>\n",
              "      <th>age_&lt;25</th>\n",
              "      <th>age_&gt;74</th>\n",
              "    </tr>\n",
              "  </thead>\n",
              "  <tbody>\n",
              "    <tr>\n",
              "      <th>20907</th>\n",
              "      <td>256500</td>\n",
              "      <td>360.0</td>\n",
              "      <td>268000.0</td>\n",
              "      <td>6957.338876</td>\n",
              "      <td>565</td>\n",
              "      <td>0</td>\n",
              "      <td>37.732932</td>\n",
              "      <td>0</td>\n",
              "      <td>1</td>\n",
              "      <td>0</td>\n",
              "      <td>0</td>\n",
              "      <td>0</td>\n",
              "      <td>0</td>\n",
              "      <td>0</td>\n",
              "      <td>0</td>\n",
              "      <td>1</td>\n",
              "      <td>0</td>\n",
              "    </tr>\n",
              "    <tr>\n",
              "      <th>1156</th>\n",
              "      <td>216500</td>\n",
              "      <td>240.0</td>\n",
              "      <td>338000.0</td>\n",
              "      <td>7500.000000</td>\n",
              "      <td>619</td>\n",
              "      <td>0</td>\n",
              "      <td>9.000000</td>\n",
              "      <td>1</td>\n",
              "      <td>0</td>\n",
              "      <td>0</td>\n",
              "      <td>0</td>\n",
              "      <td>1</td>\n",
              "      <td>0</td>\n",
              "      <td>0</td>\n",
              "      <td>0</td>\n",
              "      <td>0</td>\n",
              "      <td>0</td>\n",
              "    </tr>\n",
              "    <tr>\n",
              "      <th>137562</th>\n",
              "      <td>146500</td>\n",
              "      <td>360.0</td>\n",
              "      <td>178000.0</td>\n",
              "      <td>4200.000000</td>\n",
              "      <td>603</td>\n",
              "      <td>0</td>\n",
              "      <td>48.000000</td>\n",
              "      <td>0</td>\n",
              "      <td>1</td>\n",
              "      <td>0</td>\n",
              "      <td>0</td>\n",
              "      <td>0</td>\n",
              "      <td>1</td>\n",
              "      <td>0</td>\n",
              "      <td>0</td>\n",
              "      <td>0</td>\n",
              "      <td>0</td>\n",
              "    </tr>\n",
              "    <tr>\n",
              "      <th>146313</th>\n",
              "      <td>586500</td>\n",
              "      <td>360.0</td>\n",
              "      <td>728000.0</td>\n",
              "      <td>6780.000000</td>\n",
              "      <td>530</td>\n",
              "      <td>0</td>\n",
              "      <td>55.000000</td>\n",
              "      <td>0</td>\n",
              "      <td>1</td>\n",
              "      <td>0</td>\n",
              "      <td>0</td>\n",
              "      <td>0</td>\n",
              "      <td>0</td>\n",
              "      <td>1</td>\n",
              "      <td>0</td>\n",
              "      <td>0</td>\n",
              "      <td>0</td>\n",
              "    </tr>\n",
              "    <tr>\n",
              "      <th>101844</th>\n",
              "      <td>166500</td>\n",
              "      <td>360.0</td>\n",
              "      <td>178000.0</td>\n",
              "      <td>4500.000000</td>\n",
              "      <td>725</td>\n",
              "      <td>0</td>\n",
              "      <td>36.000000</td>\n",
              "      <td>1</td>\n",
              "      <td>0</td>\n",
              "      <td>0</td>\n",
              "      <td>0</td>\n",
              "      <td>0</td>\n",
              "      <td>1</td>\n",
              "      <td>0</td>\n",
              "      <td>0</td>\n",
              "      <td>0</td>\n",
              "      <td>0</td>\n",
              "    </tr>\n",
              "  </tbody>\n",
              "</table>\n",
              "</div>\n",
              "      <button class=\"colab-df-convert\" onclick=\"convertToInteractive('df-5118f30e-d1a6-4042-ac55-ee8b422bd6e0')\"\n",
              "              title=\"Convert this dataframe to an interactive table.\"\n",
              "              style=\"display:none;\">\n",
              "        \n",
              "  <svg xmlns=\"http://www.w3.org/2000/svg\" height=\"24px\"viewBox=\"0 0 24 24\"\n",
              "       width=\"24px\">\n",
              "    <path d=\"M0 0h24v24H0V0z\" fill=\"none\"/>\n",
              "    <path d=\"M18.56 5.44l.94 2.06.94-2.06 2.06-.94-2.06-.94-.94-2.06-.94 2.06-2.06.94zm-11 1L8.5 8.5l.94-2.06 2.06-.94-2.06-.94L8.5 2.5l-.94 2.06-2.06.94zm10 10l.94 2.06.94-2.06 2.06-.94-2.06-.94-.94-2.06-.94 2.06-2.06.94z\"/><path d=\"M17.41 7.96l-1.37-1.37c-.4-.4-.92-.59-1.43-.59-.52 0-1.04.2-1.43.59L10.3 9.45l-7.72 7.72c-.78.78-.78 2.05 0 2.83L4 21.41c.39.39.9.59 1.41.59.51 0 1.02-.2 1.41-.59l7.78-7.78 2.81-2.81c.8-.78.8-2.07 0-2.86zM5.41 20L4 18.59l7.72-7.72 1.47 1.35L5.41 20z\"/>\n",
              "  </svg>\n",
              "      </button>\n",
              "      \n",
              "  <style>\n",
              "    .colab-df-container {\n",
              "      display:flex;\n",
              "      flex-wrap:wrap;\n",
              "      gap: 12px;\n",
              "    }\n",
              "\n",
              "    .colab-df-convert {\n",
              "      background-color: #E8F0FE;\n",
              "      border: none;\n",
              "      border-radius: 50%;\n",
              "      cursor: pointer;\n",
              "      display: none;\n",
              "      fill: #1967D2;\n",
              "      height: 32px;\n",
              "      padding: 0 0 0 0;\n",
              "      width: 32px;\n",
              "    }\n",
              "\n",
              "    .colab-df-convert:hover {\n",
              "      background-color: #E2EBFA;\n",
              "      box-shadow: 0px 1px 2px rgba(60, 64, 67, 0.3), 0px 1px 3px 1px rgba(60, 64, 67, 0.15);\n",
              "      fill: #174EA6;\n",
              "    }\n",
              "\n",
              "    [theme=dark] .colab-df-convert {\n",
              "      background-color: #3B4455;\n",
              "      fill: #D2E3FC;\n",
              "    }\n",
              "\n",
              "    [theme=dark] .colab-df-convert:hover {\n",
              "      background-color: #434B5C;\n",
              "      box-shadow: 0px 1px 3px 1px rgba(0, 0, 0, 0.15);\n",
              "      filter: drop-shadow(0px 1px 2px rgba(0, 0, 0, 0.3));\n",
              "      fill: #FFFFFF;\n",
              "    }\n",
              "  </style>\n",
              "\n",
              "      <script>\n",
              "        const buttonEl =\n",
              "          document.querySelector('#df-5118f30e-d1a6-4042-ac55-ee8b422bd6e0 button.colab-df-convert');\n",
              "        buttonEl.style.display =\n",
              "          google.colab.kernel.accessAllowed ? 'block' : 'none';\n",
              "\n",
              "        async function convertToInteractive(key) {\n",
              "          const element = document.querySelector('#df-5118f30e-d1a6-4042-ac55-ee8b422bd6e0');\n",
              "          const dataTable =\n",
              "            await google.colab.kernel.invokeFunction('convertToInteractive',\n",
              "                                                     [key], {});\n",
              "          if (!dataTable) return;\n",
              "\n",
              "          const docLinkHtml = 'Like what you see? Visit the ' +\n",
              "            '<a target=\"_blank\" href=https://colab.research.google.com/notebooks/data_table.ipynb>data table notebook</a>'\n",
              "            + ' to learn more about interactive tables.';\n",
              "          element.innerHTML = '';\n",
              "          dataTable['output_type'] = 'display_data';\n",
              "          await google.colab.output.renderOutput(dataTable, element);\n",
              "          const docLink = document.createElement('div');\n",
              "          docLink.innerHTML = docLinkHtml;\n",
              "          element.appendChild(docLink);\n",
              "        }\n",
              "      </script>\n",
              "    </div>\n",
              "  </div>\n",
              "  "
            ]
          },
          "metadata": {},
          "execution_count": 49
        }
      ],
      "source": [
        "df2 = pd.get_dummies(df_downsampled)\n",
        "df2.head()"
      ]
    },
    {
      "cell_type": "code",
      "execution_count": 50,
      "metadata": {
        "colab": {
          "base_uri": "https://localhost:8080/"
        },
        "id": "c48BOFzq8gc5",
        "outputId": "75a5b45e-e6be-489a-8574-ca52decc4c4a"
      },
      "outputs": [
        {
          "output_type": "execute_result",
          "data": {
            "text/plain": [
              "0    36639\n",
              "1    36639\n",
              "Name: Status, dtype: int64"
            ]
          },
          "metadata": {},
          "execution_count": 50
        }
      ],
      "source": [
        "df2['Status'].value_counts()"
      ]
    },
    {
      "cell_type": "markdown",
      "metadata": {
        "id": "zMRHYv4N8gc5"
      },
      "source": [
        "#### Random Forest"
      ]
    },
    {
      "cell_type": "code",
      "execution_count": 51,
      "metadata": {
        "id": "gB_lELk38gc6"
      },
      "outputs": [],
      "source": [
        "X = df2.loc[:, df2.columns != 'Status']\n",
        "y = df2[\"Status\"]"
      ]
    },
    {
      "cell_type": "code",
      "execution_count": 52,
      "metadata": {
        "id": "MVXQBYly8gc6"
      },
      "outputs": [],
      "source": [
        "# Train-test-split\n",
        "from sklearn.model_selection import train_test_split\n",
        "X_train, X_test, y_train, y_test = train_test_split(X, y, test_size=0.2,\n",
        "                                                    random_state=1)"
      ]
    },
    {
      "cell_type": "code",
      "execution_count": 53,
      "metadata": {
        "colab": {
          "base_uri": "https://localhost:8080/"
        },
        "id": "0H4VCdUe8gc6",
        "outputId": "d9be58f5-f8b5-4ed8-d2bf-da9f2bb72153"
      },
      "outputs": [
        {
          "output_type": "execute_result",
          "data": {
            "text/plain": [
              "RandomForestClassifier(max_depth=5, n_jobs=-1, oob_score=True, random_state=42)"
            ]
          },
          "metadata": {},
          "execution_count": 53
        }
      ],
      "source": [
        "from sklearn.ensemble import RandomForestClassifier\n",
        "\n",
        "classifier_rf = RandomForestClassifier(random_state=42, n_jobs=-1, max_depth=5,\n",
        "                                       n_estimators=100, oob_score=True)\n",
        "\n",
        "classifier_rf.fit(X_train, y_train)"
      ]
    },
    {
      "cell_type": "markdown",
      "metadata": {
        "id": "6U_qsNQy8gc7"
      },
      "source": [
        "### Improving Model"
      ]
    },
    {
      "cell_type": "markdown",
      "source": [
        "Pada tahap ini, akan digunakan dua cara untuk meningkatkan akurasi model, yaitu dengan cara menambahkan feature yang digunakan sebagai prediktor dan dengan hyperparameter tuning."
      ],
      "metadata": {
        "id": "FTZ8SL-SO8HM"
      }
    },
    {
      "cell_type": "markdown",
      "source": [
        "#### Adding feature"
      ],
      "metadata": {
        "id": "NFHc6g-n_IiL"
      }
    },
    {
      "cell_type": "code",
      "source": [
        "df3 = df.copy()"
      ],
      "metadata": {
        "id": "5Lp7LUgzB2px"
      },
      "execution_count": 54,
      "outputs": []
    },
    {
      "cell_type": "code",
      "source": [
        "df3.drop(['lump_sum_payment','Neg_ammortization','business_or_commercial','approv_in_adv','loan_limit','Credit_Worthiness','submission_of_application'], axis = 'columns', inplace = True)"
      ],
      "metadata": {
        "id": "puzKZcdpLYf-"
      },
      "execution_count": 55,
      "outputs": []
    },
    {
      "cell_type": "code",
      "source": [
        "from sklearn.utils import resample\n",
        "\n",
        "#create two different dataframe of majority and minority class \n",
        "df_majority = df3[(df3['Status']==0)] \n",
        "df_minority = df3[(df3['Status']==1)] \n",
        "# downsample majority class\n",
        "df_majority_downsampled = resample(df_majority, \n",
        "                                 replace=True,    # sample with replacement\n",
        "                                 n_samples=36639, # to match minority class\n",
        "                                 random_state=42)  # reproducible results\n",
        "# Combine downsampled majority class with minority class\n",
        "df_downsampled = pd.concat([df_majority_downsampled, df_minority])"
      ],
      "metadata": {
        "id": "-dJQ76kyE1Co"
      },
      "execution_count": 56,
      "outputs": []
    },
    {
      "cell_type": "code",
      "source": [
        "df3 = pd.get_dummies(df_downsampled)\n",
        "df3.head()"
      ],
      "metadata": {
        "colab": {
          "base_uri": "https://localhost:8080/",
          "height": 317
        },
        "id": "VpRPZogqLoOy",
        "outputId": "da2bd508-f1de-43a5-94c1-4c8391083cc6"
      },
      "execution_count": 57,
      "outputs": [
        {
          "output_type": "execute_result",
          "data": {
            "text/plain": [
              "        loan_amount   term  property_value       income  Credit_Score  Status  \\\n",
              "20907        256500  360.0        268000.0  6957.338876           565       0   \n",
              "1156         216500  240.0        338000.0  7500.000000           619       0   \n",
              "137562       146500  360.0        178000.0  4200.000000           603       0   \n",
              "146313       586500  360.0        728000.0  6780.000000           530       0   \n",
              "101844       166500  360.0        178000.0  4500.000000           725       0   \n",
              "\n",
              "            dtir1  loan_type_type1  loan_type_type2  loan_type_type3  ...  \\\n",
              "20907   37.732932                0                1                0  ...   \n",
              "1156     9.000000                1                0                0  ...   \n",
              "137562  48.000000                0                1                0  ...   \n",
              "146313  55.000000                0                1                0  ...   \n",
              "101844  36.000000                1                0                0  ...   \n",
              "\n",
              "        loan_purpose_p2  loan_purpose_p3  loan_purpose_p4  age_25-34  \\\n",
              "20907                 0                0                1          0   \n",
              "1156                  0                0                0          0   \n",
              "137562                0                1                0          0   \n",
              "146313                0                1                0          0   \n",
              "101844                0                0                0          0   \n",
              "\n",
              "        age_35-44  age_45-54  age_55-64  age_65-74  age_<25  age_>74  \n",
              "20907           0          0          0          0        1        0  \n",
              "1156            1          0          0          0        0        0  \n",
              "137562          0          1          0          0        0        0  \n",
              "146313          0          0          1          0        0        0  \n",
              "101844          0          1          0          0        0        0  \n",
              "\n",
              "[5 rows x 21 columns]"
            ],
            "text/html": [
              "\n",
              "  <div id=\"df-ac96b64d-be37-4f5a-b85c-c16c28bcfd2b\">\n",
              "    <div class=\"colab-df-container\">\n",
              "      <div>\n",
              "<style scoped>\n",
              "    .dataframe tbody tr th:only-of-type {\n",
              "        vertical-align: middle;\n",
              "    }\n",
              "\n",
              "    .dataframe tbody tr th {\n",
              "        vertical-align: top;\n",
              "    }\n",
              "\n",
              "    .dataframe thead th {\n",
              "        text-align: right;\n",
              "    }\n",
              "</style>\n",
              "<table border=\"1\" class=\"dataframe\">\n",
              "  <thead>\n",
              "    <tr style=\"text-align: right;\">\n",
              "      <th></th>\n",
              "      <th>loan_amount</th>\n",
              "      <th>term</th>\n",
              "      <th>property_value</th>\n",
              "      <th>income</th>\n",
              "      <th>Credit_Score</th>\n",
              "      <th>Status</th>\n",
              "      <th>dtir1</th>\n",
              "      <th>loan_type_type1</th>\n",
              "      <th>loan_type_type2</th>\n",
              "      <th>loan_type_type3</th>\n",
              "      <th>...</th>\n",
              "      <th>loan_purpose_p2</th>\n",
              "      <th>loan_purpose_p3</th>\n",
              "      <th>loan_purpose_p4</th>\n",
              "      <th>age_25-34</th>\n",
              "      <th>age_35-44</th>\n",
              "      <th>age_45-54</th>\n",
              "      <th>age_55-64</th>\n",
              "      <th>age_65-74</th>\n",
              "      <th>age_&lt;25</th>\n",
              "      <th>age_&gt;74</th>\n",
              "    </tr>\n",
              "  </thead>\n",
              "  <tbody>\n",
              "    <tr>\n",
              "      <th>20907</th>\n",
              "      <td>256500</td>\n",
              "      <td>360.0</td>\n",
              "      <td>268000.0</td>\n",
              "      <td>6957.338876</td>\n",
              "      <td>565</td>\n",
              "      <td>0</td>\n",
              "      <td>37.732932</td>\n",
              "      <td>0</td>\n",
              "      <td>1</td>\n",
              "      <td>0</td>\n",
              "      <td>...</td>\n",
              "      <td>0</td>\n",
              "      <td>0</td>\n",
              "      <td>1</td>\n",
              "      <td>0</td>\n",
              "      <td>0</td>\n",
              "      <td>0</td>\n",
              "      <td>0</td>\n",
              "      <td>0</td>\n",
              "      <td>1</td>\n",
              "      <td>0</td>\n",
              "    </tr>\n",
              "    <tr>\n",
              "      <th>1156</th>\n",
              "      <td>216500</td>\n",
              "      <td>240.0</td>\n",
              "      <td>338000.0</td>\n",
              "      <td>7500.000000</td>\n",
              "      <td>619</td>\n",
              "      <td>0</td>\n",
              "      <td>9.000000</td>\n",
              "      <td>1</td>\n",
              "      <td>0</td>\n",
              "      <td>0</td>\n",
              "      <td>...</td>\n",
              "      <td>0</td>\n",
              "      <td>0</td>\n",
              "      <td>0</td>\n",
              "      <td>0</td>\n",
              "      <td>1</td>\n",
              "      <td>0</td>\n",
              "      <td>0</td>\n",
              "      <td>0</td>\n",
              "      <td>0</td>\n",
              "      <td>0</td>\n",
              "    </tr>\n",
              "    <tr>\n",
              "      <th>137562</th>\n",
              "      <td>146500</td>\n",
              "      <td>360.0</td>\n",
              "      <td>178000.0</td>\n",
              "      <td>4200.000000</td>\n",
              "      <td>603</td>\n",
              "      <td>0</td>\n",
              "      <td>48.000000</td>\n",
              "      <td>0</td>\n",
              "      <td>1</td>\n",
              "      <td>0</td>\n",
              "      <td>...</td>\n",
              "      <td>0</td>\n",
              "      <td>1</td>\n",
              "      <td>0</td>\n",
              "      <td>0</td>\n",
              "      <td>0</td>\n",
              "      <td>1</td>\n",
              "      <td>0</td>\n",
              "      <td>0</td>\n",
              "      <td>0</td>\n",
              "      <td>0</td>\n",
              "    </tr>\n",
              "    <tr>\n",
              "      <th>146313</th>\n",
              "      <td>586500</td>\n",
              "      <td>360.0</td>\n",
              "      <td>728000.0</td>\n",
              "      <td>6780.000000</td>\n",
              "      <td>530</td>\n",
              "      <td>0</td>\n",
              "      <td>55.000000</td>\n",
              "      <td>0</td>\n",
              "      <td>1</td>\n",
              "      <td>0</td>\n",
              "      <td>...</td>\n",
              "      <td>0</td>\n",
              "      <td>1</td>\n",
              "      <td>0</td>\n",
              "      <td>0</td>\n",
              "      <td>0</td>\n",
              "      <td>0</td>\n",
              "      <td>1</td>\n",
              "      <td>0</td>\n",
              "      <td>0</td>\n",
              "      <td>0</td>\n",
              "    </tr>\n",
              "    <tr>\n",
              "      <th>101844</th>\n",
              "      <td>166500</td>\n",
              "      <td>360.0</td>\n",
              "      <td>178000.0</td>\n",
              "      <td>4500.000000</td>\n",
              "      <td>725</td>\n",
              "      <td>0</td>\n",
              "      <td>36.000000</td>\n",
              "      <td>1</td>\n",
              "      <td>0</td>\n",
              "      <td>0</td>\n",
              "      <td>...</td>\n",
              "      <td>0</td>\n",
              "      <td>0</td>\n",
              "      <td>0</td>\n",
              "      <td>0</td>\n",
              "      <td>0</td>\n",
              "      <td>1</td>\n",
              "      <td>0</td>\n",
              "      <td>0</td>\n",
              "      <td>0</td>\n",
              "      <td>0</td>\n",
              "    </tr>\n",
              "  </tbody>\n",
              "</table>\n",
              "<p>5 rows × 21 columns</p>\n",
              "</div>\n",
              "      <button class=\"colab-df-convert\" onclick=\"convertToInteractive('df-ac96b64d-be37-4f5a-b85c-c16c28bcfd2b')\"\n",
              "              title=\"Convert this dataframe to an interactive table.\"\n",
              "              style=\"display:none;\">\n",
              "        \n",
              "  <svg xmlns=\"http://www.w3.org/2000/svg\" height=\"24px\"viewBox=\"0 0 24 24\"\n",
              "       width=\"24px\">\n",
              "    <path d=\"M0 0h24v24H0V0z\" fill=\"none\"/>\n",
              "    <path d=\"M18.56 5.44l.94 2.06.94-2.06 2.06-.94-2.06-.94-.94-2.06-.94 2.06-2.06.94zm-11 1L8.5 8.5l.94-2.06 2.06-.94-2.06-.94L8.5 2.5l-.94 2.06-2.06.94zm10 10l.94 2.06.94-2.06 2.06-.94-2.06-.94-.94-2.06-.94 2.06-2.06.94z\"/><path d=\"M17.41 7.96l-1.37-1.37c-.4-.4-.92-.59-1.43-.59-.52 0-1.04.2-1.43.59L10.3 9.45l-7.72 7.72c-.78.78-.78 2.05 0 2.83L4 21.41c.39.39.9.59 1.41.59.51 0 1.02-.2 1.41-.59l7.78-7.78 2.81-2.81c.8-.78.8-2.07 0-2.86zM5.41 20L4 18.59l7.72-7.72 1.47 1.35L5.41 20z\"/>\n",
              "  </svg>\n",
              "      </button>\n",
              "      \n",
              "  <style>\n",
              "    .colab-df-container {\n",
              "      display:flex;\n",
              "      flex-wrap:wrap;\n",
              "      gap: 12px;\n",
              "    }\n",
              "\n",
              "    .colab-df-convert {\n",
              "      background-color: #E8F0FE;\n",
              "      border: none;\n",
              "      border-radius: 50%;\n",
              "      cursor: pointer;\n",
              "      display: none;\n",
              "      fill: #1967D2;\n",
              "      height: 32px;\n",
              "      padding: 0 0 0 0;\n",
              "      width: 32px;\n",
              "    }\n",
              "\n",
              "    .colab-df-convert:hover {\n",
              "      background-color: #E2EBFA;\n",
              "      box-shadow: 0px 1px 2px rgba(60, 64, 67, 0.3), 0px 1px 3px 1px rgba(60, 64, 67, 0.15);\n",
              "      fill: #174EA6;\n",
              "    }\n",
              "\n",
              "    [theme=dark] .colab-df-convert {\n",
              "      background-color: #3B4455;\n",
              "      fill: #D2E3FC;\n",
              "    }\n",
              "\n",
              "    [theme=dark] .colab-df-convert:hover {\n",
              "      background-color: #434B5C;\n",
              "      box-shadow: 0px 1px 3px 1px rgba(0, 0, 0, 0.15);\n",
              "      filter: drop-shadow(0px 1px 2px rgba(0, 0, 0, 0.3));\n",
              "      fill: #FFFFFF;\n",
              "    }\n",
              "  </style>\n",
              "\n",
              "      <script>\n",
              "        const buttonEl =\n",
              "          document.querySelector('#df-ac96b64d-be37-4f5a-b85c-c16c28bcfd2b button.colab-df-convert');\n",
              "        buttonEl.style.display =\n",
              "          google.colab.kernel.accessAllowed ? 'block' : 'none';\n",
              "\n",
              "        async function convertToInteractive(key) {\n",
              "          const element = document.querySelector('#df-ac96b64d-be37-4f5a-b85c-c16c28bcfd2b');\n",
              "          const dataTable =\n",
              "            await google.colab.kernel.invokeFunction('convertToInteractive',\n",
              "                                                     [key], {});\n",
              "          if (!dataTable) return;\n",
              "\n",
              "          const docLinkHtml = 'Like what you see? Visit the ' +\n",
              "            '<a target=\"_blank\" href=https://colab.research.google.com/notebooks/data_table.ipynb>data table notebook</a>'\n",
              "            + ' to learn more about interactive tables.';\n",
              "          element.innerHTML = '';\n",
              "          dataTable['output_type'] = 'display_data';\n",
              "          await google.colab.output.renderOutput(dataTable, element);\n",
              "          const docLink = document.createElement('div');\n",
              "          docLink.innerHTML = docLinkHtml;\n",
              "          element.appendChild(docLink);\n",
              "        }\n",
              "      </script>\n",
              "    </div>\n",
              "  </div>\n",
              "  "
            ]
          },
          "metadata": {},
          "execution_count": 57
        }
      ]
    },
    {
      "cell_type": "code",
      "source": [
        "X = df3.loc[:, df3.columns != 'Status']\n",
        "y = df3[\"Status\"]"
      ],
      "metadata": {
        "id": "H0noG7WFLyyW"
      },
      "execution_count": 58,
      "outputs": []
    },
    {
      "cell_type": "code",
      "source": [
        "from sklearn.model_selection import train_test_split\n",
        "X_train2, X_test2, y_train2, y_test2 = train_test_split(X, y, test_size=0.2,\n",
        "                                                    random_state=1)"
      ],
      "metadata": {
        "id": "F_GNbJYbL_Z8"
      },
      "execution_count": 61,
      "outputs": []
    },
    {
      "cell_type": "code",
      "source": [
        "from sklearn.ensemble import RandomForestClassifier\n",
        "\n",
        "improve_rf = RandomForestClassifier(random_state=42, n_jobs=-1, max_depth=5,\n",
        "                                       n_estimators=100, oob_score=True)\n",
        "\n",
        "improve_rf.fit(X_train2, y_train2)"
      ],
      "metadata": {
        "colab": {
          "base_uri": "https://localhost:8080/"
        },
        "id": "WZySGi9NMC5o",
        "outputId": "3279680d-07ee-4f97-d484-88c555529063"
      },
      "execution_count": 62,
      "outputs": [
        {
          "output_type": "execute_result",
          "data": {
            "text/plain": [
              "RandomForestClassifier(max_depth=5, n_jobs=-1, oob_score=True, random_state=42)"
            ]
          },
          "metadata": {},
          "execution_count": 62
        }
      ]
    },
    {
      "cell_type": "markdown",
      "source": [
        "#### Hyperparameter Tuning"
      ],
      "metadata": {
        "id": "Zy0JQpev_UT7"
      }
    },
    {
      "cell_type": "code",
      "execution_count": 63,
      "metadata": {
        "id": "tjFOQgBX8gc7"
      },
      "outputs": [],
      "source": [
        "#Hyperparameter Tuning\n",
        "#Mendefinisikan RandomForestClassifier\n",
        "rf = RandomForestClassifier(random_state=42, n_jobs=-1)"
      ]
    },
    {
      "cell_type": "code",
      "execution_count": 64,
      "metadata": {
        "id": "BfzheNRh8gc7"
      },
      "outputs": [],
      "source": [
        "#Mendefinisikan hyperparameter\n",
        "params = {\n",
        "    'max_depth': list(range(2,20)),\n",
        "    'min_samples_leaf': list(range(1,50)),\n",
        "    'n_estimators': list(range(100,200,10))\n",
        "}"
      ]
    },
    {
      "cell_type": "code",
      "execution_count": 65,
      "metadata": {
        "colab": {
          "base_uri": "https://localhost:8080/"
        },
        "id": "Kyqou3vi8gc8",
        "outputId": "4c4b0352-e38b-42e8-f8dc-6d76801d9242"
      },
      "outputs": [
        {
          "output_type": "stream",
          "name": "stdout",
          "text": [
            "Fitting 4 folds for each of 100 candidates, totalling 400 fits\n"
          ]
        },
        {
          "output_type": "execute_result",
          "data": {
            "text/plain": [
              "RandomizedSearchCV(cv=4,\n",
              "                   estimator=RandomForestClassifier(n_jobs=-1, random_state=42),\n",
              "                   n_iter=100, n_jobs=-1,\n",
              "                   param_distributions={'max_depth': [2, 3, 4, 5, 6, 7, 8, 9,\n",
              "                                                      10, 11, 12, 13, 14, 15,\n",
              "                                                      16, 17, 18, 19],\n",
              "                                        'min_samples_leaf': [1, 2, 3, 4, 5, 6,\n",
              "                                                             7, 8, 9, 10, 11,\n",
              "                                                             12, 13, 14, 15, 16,\n",
              "                                                             17, 18, 19, 20, 21,\n",
              "                                                             22, 23, 24, 25, 26,\n",
              "                                                             27, 28, 29, 30, ...],\n",
              "                                        'n_estimators': [100, 110, 120, 130,\n",
              "                                                         140, 150, 160, 170,\n",
              "                                                         180, 190]},\n",
              "                   scoring='accuracy', verbose=1)"
            ]
          },
          "metadata": {},
          "execution_count": 65
        }
      ],
      "source": [
        "#random search untuk mencari hyperparameter terbaik\n",
        "from sklearn.model_selection import RandomizedSearchCV\n",
        "\n",
        "random_search = RandomizedSearchCV(estimator=rf,\n",
        "                           param_distributions=params,\n",
        "                           n_iter=100,\n",
        "                           cv = 4,\n",
        "                           n_jobs=-1, verbose=1, scoring=\"accuracy\")\n",
        "\n",
        "random_search.fit(X_train, y_train)"
      ]
    },
    {
      "cell_type": "code",
      "execution_count": 66,
      "metadata": {
        "colab": {
          "base_uri": "https://localhost:8080/"
        },
        "id": "K6DIVm5x8gc8",
        "outputId": "29a27231-eddb-48e1-e930-d168a7955df4"
      },
      "outputs": [
        {
          "output_type": "execute_result",
          "data": {
            "text/plain": [
              "0.7808161006460081"
            ]
          },
          "metadata": {},
          "execution_count": 66
        }
      ],
      "source": [
        "random_search.best_score_"
      ]
    },
    {
      "cell_type": "code",
      "execution_count": 67,
      "metadata": {
        "colab": {
          "base_uri": "https://localhost:8080/"
        },
        "id": "et8_JIo_8gc8",
        "outputId": "5365134e-73dc-42b7-dc33-9b4706db7a15"
      },
      "outputs": [
        {
          "output_type": "execute_result",
          "data": {
            "text/plain": [
              "RandomForestClassifier(max_depth=18, min_samples_leaf=2, n_estimators=120,\n",
              "                       n_jobs=-1, random_state=42)"
            ]
          },
          "metadata": {},
          "execution_count": 67
        }
      ],
      "source": [
        "#train model dengan menggunakan hyperparameter hasil random search \n",
        "rf_best = random_search.best_estimator_\n",
        "rf_best.fit(X_train, y_train)"
      ]
    },
    {
      "cell_type": "code",
      "execution_count": 68,
      "metadata": {
        "id": "C07gxReZ8gc9"
      },
      "outputs": [],
      "source": [
        "#model awal\n",
        "y_classifier_rf = classifier_rf.predict(X_test)\n",
        "#setelah menambah feature\n",
        "y_improve_rf = improve_rf.predict(X_test2)\n",
        "#setelah hyperparameter tuning\n",
        "y_rf = rf_best.predict(X_test)"
      ]
    },
    {
      "cell_type": "markdown",
      "source": [
        "#### Model Evaluation"
      ],
      "metadata": {
        "id": "YS5mroV5_e2I"
      }
    },
    {
      "cell_type": "code",
      "execution_count": 69,
      "metadata": {
        "colab": {
          "base_uri": "https://localhost:8080/"
        },
        "id": "7qKiPqfk8gc9",
        "outputId": "feee3ce2-3ca1-46e0-ec74-e7eea876c081"
      },
      "outputs": [
        {
          "output_type": "stream",
          "name": "stdout",
          "text": [
            "0.7665100805065003\n",
            "0.740794243423467\n",
            "0.7880235115075124\n"
          ]
        }
      ],
      "source": [
        "#Evaluasi model menggunakan AUC\n",
        "from sklearn.metrics import roc_curve, auc\n",
        "fpr, tpr, thresholds = roc_curve(y_test, y_classifier_rf, pos_label=1) # pos_label: positive label\n",
        "print(auc(fpr, tpr))\n",
        "fpr, tpr, thresholds = roc_curve(y_test2, y_improve_rf, pos_label=1) # pos_label: positive label\n",
        "print(auc(fpr, tpr))\n",
        "fpr, tpr, thresholds = roc_curve(y_test, y_rf, pos_label=1) # pos_label: positive label\n",
        "print(auc(fpr, tpr))"
      ]
    },
    {
      "cell_type": "code",
      "execution_count": 70,
      "metadata": {
        "colab": {
          "base_uri": "https://localhost:8080/"
        },
        "id": "gD7xPDEE8gc9",
        "outputId": "44fbdf2d-c026-470e-dd9f-9eeb2f9a0cd8"
      },
      "outputs": [
        {
          "output_type": "stream",
          "name": "stdout",
          "text": [
            "              precision    recall  f1-score   support\n",
            "\n",
            "           0       0.72      0.90      0.80      7462\n",
            "           1       0.86      0.64      0.73      7194\n",
            "\n",
            "    accuracy                           0.77     14656\n",
            "   macro avg       0.79      0.77      0.76     14656\n",
            "weighted avg       0.79      0.77      0.76     14656\n",
            "\n",
            "              precision    recall  f1-score   support\n",
            "\n",
            "           0       0.73      0.78      0.75      7462\n",
            "           1       0.75      0.70      0.73      7194\n",
            "\n",
            "    accuracy                           0.74     14656\n",
            "   macro avg       0.74      0.74      0.74     14656\n",
            "weighted avg       0.74      0.74      0.74     14656\n",
            "\n",
            "              precision    recall  f1-score   support\n",
            "\n",
            "           0       0.73      0.92      0.82      7462\n",
            "           1       0.89      0.65      0.75      7194\n",
            "\n",
            "    accuracy                           0.79     14656\n",
            "   macro avg       0.81      0.79      0.79     14656\n",
            "weighted avg       0.81      0.79      0.79     14656\n",
            "\n"
          ]
        }
      ],
      "source": [
        "#Evaluasi Model menggunakan classification report\n",
        "from sklearn.metrics import classification_report\n",
        "print(classification_report(y_test, y_classifier_rf))\n",
        "print(classification_report(y_test2, y_improve_rf))\n",
        "print(classification_report(y_test, y_rf))"
      ]
    },
    {
      "cell_type": "code",
      "source": [
        "from sklearn.metrics import accuracy_score\n",
        "print(accuracy_score(y_test, y_classifier_rf))\n",
        "print(accuracy_score(y_test2, y_improve_rf))\n",
        "print(accuracy_score(y_test, y_rf))"
      ],
      "metadata": {
        "colab": {
          "base_uri": "https://localhost:8080/"
        },
        "id": "k9FgZWK_AQ77",
        "outputId": "918ee43e-8403-40df-b669-10bff7fd7b22"
      },
      "execution_count": 78,
      "outputs": [
        {
          "output_type": "stream",
          "name": "stdout",
          "text": [
            "0.7689001091703057\n",
            "0.7414710698689956\n",
            "0.7904612445414847\n"
          ]
        }
      ]
    },
    {
      "cell_type": "code",
      "source": [
        "from sklearn.metrics import precision_score\n",
        "from sklearn.metrics import recall_score\n",
        "print(precision_score(y_test, y_rf))\n",
        "print(recall_score(y_test, y_rf))"
      ],
      "metadata": {
        "colab": {
          "base_uri": "https://localhost:8080/"
        },
        "id": "OP6USvSYBFVS",
        "outputId": "fdd745bd-de0a-4a3c-aa42-1ffbcd8a7438"
      },
      "execution_count": 81,
      "outputs": [
        {
          "output_type": "stream",
          "name": "stdout",
          "text": [
            "0.8891825561638663\n",
            "0.6547122602168474\n"
          ]
        }
      ]
    },
    {
      "cell_type": "code",
      "source": [
        "import matplotlib.pyplot as plt\n",
        "from sklearn.datasets import make_classification\n",
        "from sklearn.metrics import plot_confusion_matrix\n",
        "from sklearn.model_selection import train_test_split\n",
        "from sklearn.svm import SVC\n",
        "\n",
        "fig, axs = plt.subplots(3,1, figsize=(20,20))\n",
        "plot_confusion_matrix(classifier_rf, X_test, y_test, colorbar=False, cmap='inferno', ax=axs[0])\n",
        "plot_confusion_matrix(improve_rf, X_test2, y_test2, colorbar=False, cmap='inferno', ax=axs[1])\n",
        "plot_confusion_matrix(rf_best, X_test, y_test, colorbar=False, cmap='inferno', ax=axs[2])\n",
        "plt.show()"
      ],
      "metadata": {
        "colab": {
          "base_uri": "https://localhost:8080/",
          "height": 1000
        },
        "id": "BkiLpahHiG5F",
        "outputId": "60618710-f253-43aa-f7ec-acf7aea98e84"
      },
      "execution_count": 79,
      "outputs": [
        {
          "output_type": "stream",
          "name": "stderr",
          "text": [
            "/usr/local/lib/python3.7/dist-packages/sklearn/utils/deprecation.py:87: FutureWarning: Function plot_confusion_matrix is deprecated; Function `plot_confusion_matrix` is deprecated in 1.0 and will be removed in 1.2. Use one of the class methods: ConfusionMatrixDisplay.from_predictions or ConfusionMatrixDisplay.from_estimator.\n",
            "  warnings.warn(msg, category=FutureWarning)\n",
            "/usr/local/lib/python3.7/dist-packages/sklearn/utils/deprecation.py:87: FutureWarning: Function plot_confusion_matrix is deprecated; Function `plot_confusion_matrix` is deprecated in 1.0 and will be removed in 1.2. Use one of the class methods: ConfusionMatrixDisplay.from_predictions or ConfusionMatrixDisplay.from_estimator.\n",
            "  warnings.warn(msg, category=FutureWarning)\n",
            "/usr/local/lib/python3.7/dist-packages/sklearn/utils/deprecation.py:87: FutureWarning: Function plot_confusion_matrix is deprecated; Function `plot_confusion_matrix` is deprecated in 1.0 and will be removed in 1.2. Use one of the class methods: ConfusionMatrixDisplay.from_predictions or ConfusionMatrixDisplay.from_estimator.\n",
            "  warnings.warn(msg, category=FutureWarning)\n"
          ]
        },
        {
          "output_type": "display_data",
          "data": {
            "text/plain": [
              "<Figure size 1440x1440 with 3 Axes>"
            ],
            "image/png": "[encoded data removed]"
          },
          "metadata": {
            "needs_background": "light"
          }
        }
      ]
    },
    {
      "cell_type": "markdown",
      "source": [
        "Menambahkan feature `loan_purpose` ternyata tidak menambahkan akurasi model, model awal lebih baik daripada model setelah ditambahkan feature `loan_purpose`. Hyperparameter tuning meningkatkan akurasi model sebesar 2.15%. Model setelah hyperparameter tuning memiliki nilai presisi 88% dan recall 65%."
      ],
      "metadata": {
        "id": "EQaF-m0ETACV"
      }
    },
    {
      "cell_type": "markdown",
      "metadata": {
        "id": "eDZzHmZc8gc-"
      },
      "source": [
        "### Kesimpulan\n",
        "- Classification model yang kami gunakan pada model ini menggunakan metode random forest dengan akurasi 76.89%. Kami melakukan penambahan feature dan hyperparameter tuning untuk melakukan improvement terhadap model awal, diperoleh akurasi model akhir adalah 79.04% dengan hyperparamerter tuning. Masalah imbalanced problem sudah kami atasi dengan resample dataset sehingga data yang digunakan untuk train dan test model seimbang.\n",
        "- Feature-feature penting yang memengaruhi disetujui atau tidaknya suatu permohonan pinjaman adalah `loan_type`, `loan_amount`, `term`, `property_value`, `income`, `Credit_Score`, `age`, dan `dtir1`. \n",
        "- Nasabah dengan property value dan income yang tinggi juga ternyata banyak yang default. Hal ini karena loan amount-nya juga tinggi.\n",
        "- Peminjam dengan usia < 55 tahun lebih banyak yang tidak default dibandingkan dengan peminjam usia >=55 tahun. Hal ini bisa saja disebabkan karena peminjam dengan usia >=55 tahun sudah pensiun.\n",
        "- Credit score yang tinggi tidak menjamin nasabah akan bisa membayar.\n",
        "Saran kami untuk perusahaan pinjaman yaitu untuk tidak hanya memperhatikan Credit_Score saja, namun juga faktor lain yang berpengaruh seperti `term`, `loan_amount`,`loan_type`, `property_value`, `income`, `age`, dan juga `dtir1`.\n"
      ]
    }
  ],
  "metadata": {
    "kernelspec": {
      "display_name": "Python 3",
      "language": "python",
      "name": "python3"
    },
    "language_info": {
      "codemirror_mode": {
        "name": "ipython",
        "version": 3
      },
      "file_extension": ".py",
      "mimetype": "text/x-python",
      "name": "python",
      "nbconvert_exporter": "python",
      "pygments_lexer": "ipython3",
      "version": "3.7.0"
    },
    "colab": {
      "name": "final_project_loan_default_classification.ipynb",
      "provenance": [],
      "collapsed_sections": [
        "W-hFfrFj8gcN",
        "s8tmvJUp8gcV",
        "u27X_sSS8gcg",
        "YS5mroV5_e2I"
      ]
    }
  },
  "nbformat": 4,
  "nbformat_minor": 0
}